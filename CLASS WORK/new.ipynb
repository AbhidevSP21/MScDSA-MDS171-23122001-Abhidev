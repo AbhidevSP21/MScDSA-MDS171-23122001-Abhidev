{
 "cells": [
  {
   "cell_type": "code",
   "execution_count": 7,
   "metadata": {},
   "outputs": [
    {
     "name": "stdout",
     "output_type": "stream",
     "text": [
      "start of program\n"
     ]
    },
    {
     "ename": "KeyboardInterrupt",
     "evalue": "Interrupted by user",
     "output_type": "error",
     "traceback": [
      "\u001b[1;31m---------------------------------------------------------------------------\u001b[0m",
      "\u001b[1;31mKeyboardInterrupt\u001b[0m                         Traceback (most recent call last)",
      "Cell \u001b[1;32mIn[7], line 2\u001b[0m\n\u001b[0;32m      1\u001b[0m \u001b[39mprint\u001b[39m(\u001b[39m\"\u001b[39m\u001b[39mstart of program\u001b[39m\u001b[39m\"\u001b[39m)\n\u001b[1;32m----> 2\u001b[0m a \u001b[39m=\u001b[39m \u001b[39mint\u001b[39m(\u001b[39minput\u001b[39;49m(\u001b[39m\"\u001b[39;49m\u001b[39menter a num\u001b[39;49m\u001b[39m\"\u001b[39;49m))\n\u001b[0;32m      3\u001b[0m \u001b[39mif\u001b[39;00m a\u001b[39m==\u001b[39m\u001b[39m5\u001b[39m:\n\u001b[0;32m      4\u001b[0m     \u001b[39mprint\u001b[39m(\u001b[39m\"\u001b[39m\u001b[39mThe value is 5\u001b[39m\u001b[39m\"\u001b[39m)\n",
      "File \u001b[1;32m~\\AppData\\Roaming\\Python\\Python311\\site-packages\\ipykernel\\kernelbase.py:1202\u001b[0m, in \u001b[0;36mKernel.raw_input\u001b[1;34m(self, prompt)\u001b[0m\n\u001b[0;32m   1200\u001b[0m     msg \u001b[39m=\u001b[39m \u001b[39m\"\u001b[39m\u001b[39mraw_input was called, but this frontend does not support input requests.\u001b[39m\u001b[39m\"\u001b[39m\n\u001b[0;32m   1201\u001b[0m     \u001b[39mraise\u001b[39;00m StdinNotImplementedError(msg)\n\u001b[1;32m-> 1202\u001b[0m \u001b[39mreturn\u001b[39;00m \u001b[39mself\u001b[39;49m\u001b[39m.\u001b[39;49m_input_request(\n\u001b[0;32m   1203\u001b[0m     \u001b[39mstr\u001b[39;49m(prompt),\n\u001b[0;32m   1204\u001b[0m     \u001b[39mself\u001b[39;49m\u001b[39m.\u001b[39;49m_parent_ident[\u001b[39m\"\u001b[39;49m\u001b[39mshell\u001b[39;49m\u001b[39m\"\u001b[39;49m],\n\u001b[0;32m   1205\u001b[0m     \u001b[39mself\u001b[39;49m\u001b[39m.\u001b[39;49mget_parent(\u001b[39m\"\u001b[39;49m\u001b[39mshell\u001b[39;49m\u001b[39m\"\u001b[39;49m),\n\u001b[0;32m   1206\u001b[0m     password\u001b[39m=\u001b[39;49m\u001b[39mFalse\u001b[39;49;00m,\n\u001b[0;32m   1207\u001b[0m )\n",
      "File \u001b[1;32m~\\AppData\\Roaming\\Python\\Python311\\site-packages\\ipykernel\\kernelbase.py:1245\u001b[0m, in \u001b[0;36mKernel._input_request\u001b[1;34m(self, prompt, ident, parent, password)\u001b[0m\n\u001b[0;32m   1242\u001b[0m \u001b[39mexcept\u001b[39;00m \u001b[39mKeyboardInterrupt\u001b[39;00m:\n\u001b[0;32m   1243\u001b[0m     \u001b[39m# re-raise KeyboardInterrupt, to truncate traceback\u001b[39;00m\n\u001b[0;32m   1244\u001b[0m     msg \u001b[39m=\u001b[39m \u001b[39m\"\u001b[39m\u001b[39mInterrupted by user\u001b[39m\u001b[39m\"\u001b[39m\n\u001b[1;32m-> 1245\u001b[0m     \u001b[39mraise\u001b[39;00m \u001b[39mKeyboardInterrupt\u001b[39;00m(msg) \u001b[39mfrom\u001b[39;00m \u001b[39mNone\u001b[39;00m\n\u001b[0;32m   1246\u001b[0m \u001b[39mexcept\u001b[39;00m \u001b[39mException\u001b[39;00m:\n\u001b[0;32m   1247\u001b[0m     \u001b[39mself\u001b[39m\u001b[39m.\u001b[39mlog\u001b[39m.\u001b[39mwarning(\u001b[39m\"\u001b[39m\u001b[39mInvalid Message:\u001b[39m\u001b[39m\"\u001b[39m, exc_info\u001b[39m=\u001b[39m\u001b[39mTrue\u001b[39;00m)\n",
      "\u001b[1;31mKeyboardInterrupt\u001b[0m: Interrupted by user"
     ]
    }
   ],
   "source": [
    "print(\"start of program\")\n",
    "a = int(input(\"enter a num\"))\n",
    "if a==5:\n",
    "    print(\"The value is 5\")\n",
    "else:\n",
    "    print(\"This is else part test\")\n",
    "print(\"Entered num is\",a)\n",
    "print(\"program end\")\n"
   ]
  },
  {
   "cell_type": "markdown",
   "metadata": {},
   "source": [
    "Program to check if the entered num is odd or even\n"
   ]
  },
  {
   "cell_type": "code",
   "execution_count": null,
   "metadata": {},
   "outputs": [
    {
     "name": "stdout",
     "output_type": "stream",
     "text": [
      "Start of program\n",
      "odd\n",
      "program end\n"
     ]
    }
   ],
   "source": [
    "print(\"Start of program\")\n",
    "a=float(input(\"enter a number\"))\n",
    "if a%2==0 :\n",
    "    print(\"even\")\n",
    "else:\n",
    "    print(\"odd\")\n",
    "print(\"program end\")"
   ]
  },
  {
   "cell_type": "markdown",
   "metadata": {},
   "source": [
    "Read 3 numbers from user and print the largest among them\n"
   ]
  },
  {
   "cell_type": "code",
   "execution_count": null,
   "metadata": {},
   "outputs": [
    {
     "name": "stdout",
     "output_type": "stream",
     "text": [
      "start of program\n",
      "90.0\n"
     ]
    }
   ],
   "source": [
    "print(\"start of program\")\n",
    "a=float(input(\"enter the number 1\"))\n",
    "b=float(input(\"enter the num 2\"))\n",
    "c=float(input(\"enter the num 3\"))\n",
    "if a>b>c :\n",
    "    print(a)\n",
    "if b>a>c :\n",
    "    print(b)\n",
    "if c>a>b :\n",
    "    print(c)\n",
    "    "
   ]
  },
  {
   "cell_type": "markdown",
   "metadata": {},
   "source": [
    "Looping Statements\n"
   ]
  },
  {
   "cell_type": "code",
   "execution_count": null,
   "metadata": {},
   "outputs": [
    {
     "name": "stdout",
     "output_type": "stream",
     "text": [
      "H\n",
      "I\n",
      " \n",
      "I\n",
      "a\n",
      "m\n",
      " \n",
      "I\n",
      "N\n"
     ]
    }
   ],
   "source": [
    "for x in \"HI Iam IN\":\n",
    "    print(x)"
   ]
  },
  {
   "cell_type": "code",
   "execution_count": null,
   "metadata": {},
   "outputs": [
    {
     "name": "stdout",
     "output_type": "stream",
     "text": [
      "  Hi da  \n",
      " This is amazing\n",
      "26\n",
      "24\n"
     ]
    }
   ],
   "source": [
    "msg = \"  Hi da  \\n This is amazing\"\n",
    "print(msg)\n",
    "print(len(msg))\n",
    "msg=msg.strip() # to remove empty spaces at the beginning and at the end of the string\n",
    "print(len(msg))"
   ]
  },
  {
   "cell_type": "code",
   "execution_count": null,
   "metadata": {},
   "outputs": [
    {
     "name": "stdout",
     "output_type": "stream",
     "text": [
      "0\n",
      "2\n",
      "4\n",
      "6\n",
      "8\n"
     ]
    }
   ],
   "source": [
    "for i in range(0,10,2):\n",
    "    print(i)"
   ]
  },
  {
   "cell_type": "markdown",
   "metadata": {},
   "source": [
    "List"
   ]
  },
  {
   "cell_type": "code",
   "execution_count": null,
   "metadata": {},
   "outputs": [
    {
     "name": "stdout",
     "output_type": "stream",
     "text": [
      "Item 2\n",
      "item 1\n",
      "Item 2\n",
      "10\n",
      "22\n",
      "45\n"
     ]
    }
   ],
   "source": [
    "list = [\"item 1\",\"Item 2\",10,22,45]\n",
    "type(list) # datatype of the variable\n",
    "print(list[1])\n",
    "for i in list:\n",
    "    print(i)\n"
   ]
  },
  {
   "cell_type": "markdown",
   "metadata": {},
   "source": [
    "split() & strip()\n"
   ]
  },
  {
   "cell_type": "code",
   "execution_count": null,
   "metadata": {},
   "outputs": [
    {
     "name": "stdout",
     "output_type": "stream",
     "text": [
      "hai..\n"
     ]
    }
   ],
   "source": [
    "a=\"\\t  hai.. \\n\"\n",
    "print(a.strip())\n"
   ]
  },
  {
   "cell_type": "code",
   "execution_count": 1,
   "metadata": {},
   "outputs": [
    {
     "name": "stdout",
     "output_type": "stream",
     "text": [
      "['Hello th', ' ', ' string']\n"
     ]
    }
   ],
   "source": [
    "a=\"Hello this is string\"\n",
    "a.split(' ') # to seprate words\n",
    "res=a.split('is')\n",
    "print(res)"
   ]
  },
  {
   "cell_type": "code",
   "execution_count": null,
   "metadata": {},
   "outputs": [
    {
     "name": "stdout",
     "output_type": "stream",
     "text": [
      "ABHI\n",
      "ABHIDEVsp\n"
     ]
    }
   ],
   "source": [
    "print(\"abhi\".upper())\n",
    "print(\"abhidevSP\".swapcase())"
   ]
  },
  {
   "cell_type": "code",
   "execution_count": 2,
   "metadata": {},
   "outputs": [
    {
     "name": "stdout",
     "output_type": "stream",
     "text": [
      "l\n",
      "hi he\n",
      "llo i\n",
      "llo iam there\n"
     ]
    }
   ],
   "source": [
    "msg=\"hi hello iam there\"\n",
    "print(msg[5])\n",
    "print(msg[:5])\n",
    "print(msg[5:10])\n",
    "print(msg[5:])"
   ]
  },
  {
   "cell_type": "markdown",
   "metadata": {},
   "source": [
    ".format() #"
   ]
  },
  {
   "cell_type": "code",
   "execution_count": null,
   "metadata": {},
   "outputs": [
    {
     "name": "stdout",
     "output_type": "stream",
     "text": [
      "You are from kerala and name is Abhidev.\n"
     ]
    }
   ],
   "source": [
    "name=input(\"Enter your name:\")\n",
    "nclass=input(\"Where do you belong to\")\n",
    "\n",
    "print(\"You are from {} and name is {}.\".format(name,nclass))"
   ]
  },
  {
   "cell_type": "code",
   "execution_count": null,
   "metadata": {},
   "outputs": [],
   "source": [
    "listex=[\"one\",\"two\",\"three\",\"four\"]"
   ]
  },
  {
   "cell_type": "code",
   "execution_count": null,
   "metadata": {},
   "outputs": [
    {
     "name": "stdout",
     "output_type": "stream",
     "text": [
      "two is found\n"
     ]
    }
   ],
   "source": [
    "if \"two\" in listex:\n",
    "    print(\"two is found\")"
   ]
  },
  {
   "cell_type": "code",
   "execution_count": null,
   "metadata": {},
   "outputs": [
    {
     "name": "stdout",
     "output_type": "stream",
     "text": [
      "['one', 'TWO', 'three', 'four']\n"
     ]
    }
   ],
   "source": [
    "listex[1]=\"TWO\"\n",
    "print(listex)"
   ]
  },
  {
   "cell_type": "code",
   "execution_count": null,
   "metadata": {},
   "outputs": [
    {
     "name": "stdout",
     "output_type": "stream",
     "text": [
      "['one', 'TWO', 'three', 'four', 'five', 'six', 'seven']\n"
     ]
    }
   ],
   "source": [
    "newList = [\"five\",\"six\",\"seven\"]\n",
    "print(listex+newList)\n"
   ]
  },
  {
   "cell_type": "code",
   "execution_count": null,
   "metadata": {},
   "outputs": [
    {
     "name": "stdout",
     "output_type": "stream",
     "text": [
      "['five', 'six', 'seven', 'eight', 'eight']\n",
      "['TWO', 'three', 'four']\n"
     ]
    }
   ],
   "source": [
    "newList.append(\"eight\")\n",
    "print(newList)\n",
    "print(listex[1:4])"
   ]
  },
  {
   "cell_type": "code",
   "execution_count": null,
   "metadata": {},
   "outputs": [
    {
     "name": "stdout",
     "output_type": "stream",
     "text": [
      "['one', 'TWO', 'four']\n"
     ]
    }
   ],
   "source": [
    "listex.pop(2)\n",
    "print(listex)"
   ]
  },
  {
   "cell_type": "code",
   "execution_count": null,
   "metadata": {},
   "outputs": [
    {
     "name": "stdout",
     "output_type": "stream",
     "text": [
      "['one', 'TWO']\n"
     ]
    }
   ],
   "source": [
    "listex.remove(\"four\")\n",
    "print(listex)"
   ]
  },
  {
   "cell_type": "code",
   "execution_count": null,
   "metadata": {},
   "outputs": [
    {
     "name": "stdout",
     "output_type": "stream",
     "text": [
      "['TWO', 'one']\n",
      "['one', 'TWO']\n"
     ]
    }
   ],
   "source": [
    "listex.sort()\n",
    "print(listex)\n",
    "listex.reverse()\n",
    "print(listex)\n",
    "\n"
   ]
  },
  {
   "cell_type": "markdown",
   "metadata": {},
   "source": [
    "Function"
   ]
  },
  {
   "cell_type": "code",
   "execution_count": null,
   "metadata": {},
   "outputs": [],
   "source": [
    "def functionName(n):\n",
    "    print(\"Hi iam your fist function\",n)\n",
    "    return True"
   ]
  },
  {
   "cell_type": "code",
   "execution_count": null,
   "metadata": {},
   "outputs": [
    {
     "name": "stdout",
     "output_type": "stream",
     "text": [
      "Hi iam your fist function abhi\n"
     ]
    },
    {
     "data": {
      "text/plain": [
       "True"
      ]
     },
     "execution_count": 17,
     "metadata": {},
     "output_type": "execute_result"
    }
   ],
   "source": [
    "name=\"abhi\"\n",
    "functionName(name)"
   ]
  },
  {
   "cell_type": "code",
   "execution_count": null,
   "metadata": {},
   "outputs": [],
   "source": [
    "def functionName():\n",
    "    print(\"Hi iam your fist function\")\n",
    "    return [\"Success\",True]"
   ]
  },
  {
   "cell_type": "code",
   "execution_count": null,
   "metadata": {},
   "outputs": [
    {
     "name": "stdout",
     "output_type": "stream",
     "text": [
      "Hi iam your fist function\n",
      "['Success', True]\n"
     ]
    }
   ],
   "source": [
    "name=\"abhi\"\n",
    "ret=functionName()\n",
    "print(ret)"
   ]
  },
  {
   "cell_type": "markdown",
   "metadata": {},
   "source": [
    "Define a function that takes a list of numbers as input and return the sum of numbers, without any predefined functions"
   ]
  },
  {
   "cell_type": "code",
   "execution_count": null,
   "metadata": {},
   "outputs": [
    {
     "name": "stdout",
     "output_type": "stream",
     "text": [
      "Sum of numbers: 6.0\n"
     ]
    }
   ],
   "source": [
    "def functionsum(numbers):\n",
    "    total = 0\n",
    "    for num in numbers:\n",
    "        total += num\n",
    "    return total\n",
    "\n",
    "num_count = int(input(\"Enter the number of elements: \"))\n",
    "numbers = []\n",
    "for i in range(num_count):\n",
    "    num = float(input(f\"Enter number {i+1}: \"))\n",
    "    numbers.append(num)\n",
    "\n",
    "result = functionsum(numbers)\n",
    "print(\"Sum of numbers:\", result)\n"
   ]
  },
  {
   "cell_type": "markdown",
   "metadata": {},
   "source": [
    "Collect user input of numbers in the form of coma seperated values\n"
   ]
  },
  {
   "cell_type": "markdown",
   "metadata": {},
   "source": [
    "Count the number odd and even numbers in the list and print the odd numbers count and even numbers count along with the numbers(You will have a function that will take a list of numbers, then returns the count of odd numbers and even numbers and the new list of odd numbers and even numbers\n",
    ")"
   ]
  },
  {
   "cell_type": "code",
   "execution_count": null,
   "metadata": {},
   "outputs": [
    {
     "name": "stdout",
     "output_type": "stream",
     "text": [
      "The Mulitiplication is  24\n"
     ]
    }
   ],
   "source": [
    "a=int(input(\"Enter num1\"))\n",
    "b=int(input(\"Enter num2\"))\n",
    "c=int(input(\"Enter num3\"))\n",
    "d= a*b*c\n",
    "print(\"The Mulitiplication is \", d)\n",
    "\n",
    "\n"
   ]
  },
  {
   "cell_type": "markdown",
   "metadata": {},
   "source": [
    "File Handling"
   ]
  },
  {
   "cell_type": "code",
   "execution_count": null,
   "metadata": {},
   "outputs": [],
   "source": [
    "file=open(\"sample.txt\",\"a+\")"
   ]
  },
  {
   "cell_type": "code",
   "execution_count": null,
   "metadata": {},
   "outputs": [
    {
     "data": {
      "text/plain": [
       "35"
      ]
     },
     "execution_count": 5,
     "metadata": {},
     "output_type": "execute_result"
    }
   ],
   "source": [
    "file.write()"
   ]
  },
  {
   "cell_type": "code",
   "execution_count": null,
   "metadata": {},
   "outputs": [],
   "source": [
    "file.close()"
   ]
  },
  {
   "cell_type": "code",
   "execution_count": 12,
   "metadata": {},
   "outputs": [
    {
     "ename": "SyntaxError",
     "evalue": "unterminated string literal (detected at line 1) (3935835372.py, line 1)",
     "output_type": "error",
     "traceback": [
      "\u001b[1;36m  Cell \u001b[1;32mIn[12], line 1\u001b[1;36m\u001b[0m\n\u001b[1;33m    file_read=open(\"sample.txt,\"r+\")\u001b[0m\n\u001b[1;37m                                  ^\u001b[0m\n\u001b[1;31mSyntaxError\u001b[0m\u001b[1;31m:\u001b[0m unterminated string literal (detected at line 1)\n"
     ]
    }
   ],
   "source": [
    "file_read=open (\"sample.txt,\"r+)\n",
    "file_read.readline()               \n"
   ]
  },
  {
   "cell_type": "code",
   "execution_count": 11,
   "metadata": {},
   "outputs": [
    {
     "ename": "NameError",
     "evalue": "name 'file_read' is not defined",
     "output_type": "error",
     "traceback": [
      "\u001b[1;31m---------------------------------------------------------------------------\u001b[0m",
      "\u001b[1;31mNameError\u001b[0m                                 Traceback (most recent call last)",
      "Cell \u001b[1;32mIn[11], line 1\u001b[0m\n\u001b[1;32m----> 1\u001b[0m file_read\u001b[39m.\u001b[39mreadlines()\n",
      "\u001b[1;31mNameError\u001b[0m: name 'file_read' is not defined"
     ]
    }
   ],
   "source": [
    "file_read.readlines()"
   ]
  },
  {
   "cell_type": "markdown",
   "metadata": {},
   "source": [
    "Write a function, that accepts your details and save into a file"
   ]
  },
  {
   "cell_type": "code",
   "execution_count": null,
   "metadata": {},
   "outputs": [],
   "source": []
  },
  {
   "cell_type": "code",
   "execution_count": 1,
   "metadata": {},
   "outputs": [
    {
     "name": "stdout",
     "output_type": "stream",
     "text": [
      "Your Details are saved\n",
      "******************************\n",
      "Name\t:\tAbhiphone\t:\t9074569684email\t:\tabhidevsp21@gmail.com\n",
      "******************************\n"
     ]
    }
   ],
   "source": [
    "def writeMyDetails(name,phone,email):\n",
    "    fileMyDetails=open(name + \"abhi.txt\",\"w+\")\n",
    "    fileMyDetails.write(\"Name\\t:\\t\"+name)\n",
    "    fileMyDetails.write(\"phone\\t:\\t\"+phone)\n",
    "    fileMyDetails.write(\"email\\t:\\t\"+email)\n",
    "    fileMyDetails.close()\n",
    "    return True\n",
    "\n",
    "name=input(\"Enter your name\")\n",
    "phone=input(\"Enter your phone no:\")\n",
    "email=input(\"Enter your email\")\n",
    "ret=writeMyDetails(name,phone,email)\n",
    "if ret:\n",
    "    print(\"Your Details are saved\")\n",
    "    print(\"*\"*30)\n",
    "    for line in open (name+\"abhi.txt\",\"r+\").readlines():\n",
    "        print(line)\n",
    "    print(\"*\"*30)\n",
    "else:\n",
    "    print(\"Some error occured\")\n",
    "    \n",
    "\n",
    "\n",
    "\n",
    "\n",
    "\n",
    "    \n",
    "\n"
   ]
  },
  {
   "cell_type": "code",
   "execution_count": null,
   "metadata": {},
   "outputs": [],
   "source": [
    "with open(\"orders.txt\",\"w+\") as file:\n",
    "    itemname=input(\"item name\")\n",
    "    qty=input(\"Quantity\")\n",
    "    price=input(\"price\")\n",
    "    str_to_save=itemname+\",\"+qty\",\"+price+\"\\n\""
   ]
  },
  {
   "cell_type": "markdown",
   "metadata": {},
   "source": [
    "While\n"
   ]
  },
  {
   "cell_type": "code",
   "execution_count": 7,
   "metadata": {},
   "outputs": [
    {
     "name": "stdout",
     "output_type": "stream",
     "text": [
      "0\n",
      "2\n",
      "4\n",
      "6\n",
      "8\n",
      "10\n",
      "12\n",
      "14\n"
     ]
    }
   ],
   "source": [
    "a=0\n",
    "while a<15:\n",
    "    print(a)\n",
    "    a+=2\n",
    "    if a==12:\n",
    "        pass"
   ]
  },
  {
   "cell_type": "markdown",
   "metadata": {},
   "source": [
    "Break,Pass, Continue"
   ]
  },
  {
   "cell_type": "code",
   "execution_count": 1,
   "metadata": {},
   "outputs": [
    {
     "name": "stdout",
     "output_type": "stream",
     "text": [
      "1\n",
      "2\n",
      "3\n",
      "4\n"
     ]
    }
   ],
   "source": [
    "for item in range(1,20,1):\n",
    "    if item == 5:\n",
    "        break\n",
    "    print(item)\n"
   ]
  },
  {
   "cell_type": "code",
   "execution_count": 1,
   "metadata": {},
   "outputs": [
    {
     "name": "stdout",
     "output_type": "stream",
     "text": [
      "1\n",
      "2\n",
      "3\n",
      "4\n",
      "6\n",
      "7\n",
      "8\n",
      "9\n",
      "10\n",
      "11\n",
      "12\n",
      "13\n",
      "14\n",
      "15\n",
      "16\n",
      "17\n",
      "18\n",
      "19\n",
      "20\n"
     ]
    }
   ],
   "source": [
    "for item in range(1,21,1):\n",
    "    if item == 5:\n",
    "        continue\n",
    "    print(item)\n"
   ]
  },
  {
   "cell_type": "code",
   "execution_count": 4,
   "metadata": {},
   "outputs": [
    {
     "name": "stdout",
     "output_type": "stream",
     "text": [
      "Banana\n",
      "Apple\n",
      "Pineapple\n",
      "<class 'list'>\n",
      "<class 'set'>\n",
      "<class 'list'>\n"
     ]
    }
   ],
   "source": [
    "tiflist_ex=[\"Apple\",\"Pineapple\",\"Banana\",\"Apple\",\"Apple\"]\n",
    "set_ex=set(list_ex)\n",
    "back_to_list = list(set_ex)\n",
    "for item in set_ex:\n",
    "    print(item)\n",
    "\n",
    "print(type(list_ex))\n",
    "print(type(set_ex))\n",
    "print(type(back_to_list))"
   ]
  },
  {
   "cell_type": "markdown",
   "metadata": {},
   "source": [
    "WAP to accept 10 random strings. Identify the unique items and their count"
   ]
  },
  {
   "cell_type": "code",
   "execution_count": 1,
   "metadata": {},
   "outputs": [
    {
     "name": "stdout",
     "output_type": "stream",
     "text": [
      " is present 1 times\n",
      " is present 1 times\n",
      "ABHI is present 1 times\n",
      " is present 1 times\n",
      "ABHI is present 1 times\n",
      "HIRAN is present 1 times\n",
      " is present 1 times\n",
      "ABHI is present 1 times\n",
      "JOFIN is present 1 times\n",
      "HIRAN is present 1 times\n",
      " is present 1 times\n",
      "JOFIN is present 1 times\n",
      "ANAND is present 1 times\n",
      "ABHI is present 1 times\n",
      "HIRAN is present 1 times\n",
      " is present 1 times\n",
      "SHRUTHI is present 1 times\n",
      "JOFIN is present 1 times\n",
      "ANAND is present 1 times\n",
      "ABHI is present 1 times\n",
      "HIRAN is present 1 times\n",
      " is present 1 times\n",
      "SHRUTHI is present 1 times\n",
      "JOFIN is present 1 times\n",
      "ANAND is present 1 times\n",
      "ABHI is present 1 times\n",
      "RIYA is present 1 times\n",
      "HIRAN is present 1 times\n",
      " is present 1 times\n",
      "SHRUTHI is present 1 times\n",
      "JOFIN is present 1 times\n",
      "ANAND is present 1 times\n",
      "ABHI is present 1 times\n",
      "JOHN is present 1 times\n",
      "RIYA is present 1 times\n",
      "HIRAN is present 1 times\n",
      " is present 1 times\n",
      "SHRUTHI is present 1 times\n",
      "JOFIN is present 1 times\n",
      "ANAND is present 1 times\n",
      "ABHI is present 1 times\n",
      "DONG is present 1 times\n",
      "JOHN is present 1 times\n",
      "RIYA is present 1 times\n",
      "HIRAN is present 1 times\n"
     ]
    }
   ],
   "source": [
    "a=[]\n",
    "for i in range(0,10,1):\n",
    "    val=input(\"Enter the value:\")\n",
    "    val=val.strip()\n",
    "    val=val.upper()\n",
    "    a.append(val)\n",
    "\n",
    "    unique=set(a)\n",
    "    for item in unique:\n",
    "        count=0\n",
    "        for val in a:\n",
    "            if item == val:\n",
    "                count += 1\n",
    "        print(item,\"is present\",count,\"times\")\n",
    "\n",
    "\n",
    "\n"
   ]
  },
  {
   "cell_type": "markdown",
   "metadata": {},
   "source": [
    "Dictionary"
   ]
  },
  {
   "cell_type": "code",
   "execution_count": 19,
   "metadata": {},
   "outputs": [],
   "source": [
    "my_dict = {\"Name\":\"Abhi\",\"Age\":55,\"BooleanVal\":True}"
   ]
  },
  {
   "cell_type": "code",
   "execution_count": 21,
   "metadata": {},
   "outputs": [
    {
     "name": "stdout",
     "output_type": "stream",
     "text": [
      "{'Name': 'James', 'Age': 55, 'BooleanVal': True, 'Phone': 9074569684}\n",
      "James\n",
      "{'Name': 'James', 'Age': 55, 'BooleanVal': True, 'Phone': 9074569684}\n",
      "{'Name': 'James', 'Age': 55, 'BooleanVal': True, 'Phone': 9074569684}\n",
      "dict_values(['James', 55, True, 9074569684])\n",
      "Name\n",
      "Age\n",
      "BooleanVal\n",
      "Phone\n"
     ]
    }
   ],
   "source": [
    "print(my_dict)\n",
    "print(my_dict[\"Name\"])\n",
    "my_dict[\"Name\"] = \"James\"\n",
    "print(my_dict)\n",
    "my_dict[\"Phone\"] = 9074569684\n",
    "print(my_dict)\n",
    "my_dict.values()\n",
    "my_dict.keys()\n",
    "print(my_dict.values())\n",
    "for item in my_dict.keys():\n",
    "    print(item)\n"
   ]
  },
  {
   "cell_type": "code",
   "execution_count": 26,
   "metadata": {},
   "outputs": [
    {
     "name": "stdout",
     "output_type": "stream",
     "text": [
      "{'mscdsa': {'02': {'name': 'cfewih', 'phone': 838329930}, '03': {'name': 'abhi', 'phone': 2255}}}\n"
     ]
    }
   ],
   "source": [
    "student= {\n",
    "    \"mscdsa\":{\n",
    "        \"02\":{\n",
    "            \"name\": \"cfewih\",\n",
    "            \"phone\": 838329930,\n",
    "        },\n",
    "        \"03\":{\n",
    "            \"name\":\"abhi\",\n",
    "            \"phone\":2255,\n",
    "        \n",
    "\n",
    "        },\n",
    "    }\n",
    "}\n",
    "print(student)"
   ]
  },
  {
   "cell_type": "code",
   "execution_count": 30,
   "metadata": {},
   "outputs": [
    {
     "name": "stdout",
     "output_type": "stream",
     "text": [
      "{'rollnumber': 23122001, 'name': 'abhi', 'phone': 9074569684, 'email': 'abhidevsp21@gmail,com'}\n",
      "23122001\tabhi\t9074569684\tabhidevsp21@gmail,com\t\n",
      "{'rollnumer': 23122001, 'name': 'Abin', 'phone': 2255, 'email': 'abingmail.com'}\n",
      "23122001\tAbin\t2255\tabingmail.com\t\n"
     ]
    }
   ],
   "source": [
    "mscdsa = [\n",
    "    {\n",
    "        \"rollnumber\":23122001,\n",
    "        \"name\":\"abhi\",\n",
    "        \"phone\":9074569684,\n",
    "        \"email\":\"abhidevsp21@gmail,com\",\n",
    "    },\n",
    "    {\n",
    "        \"rollnumer\":23122001,\n",
    "        \"name\":\"Abin\",\n",
    "        \"phone\":2255,\n",
    "        \"email\":\"abingmail.com\",\n",
    "    }\n",
    "]\n",
    "for student in mscdsa:\n",
    "    print(student)\n",
    "    for key in student.keys():\n",
    "        print(student[key],end=\"\\t\")\n",
    "    print()\n",
    "    "
   ]
  },
  {
   "cell_type": "code",
   "execution_count": 1,
   "metadata": {},
   "outputs": [
    {
     "name": "stdout",
     "output_type": "stream",
     "text": [
      "* 30\n",
      "1.Enter a Name\n",
      "2.List the Names\n",
      "3.Search for a Name\n",
      "4.Exit\n",
      "******************************\n",
      "You have entered choice: \n",
      "* 30\n",
      "1.Enter a Name\n",
      "2.List the Names\n",
      "3.Search for a Name\n",
      "4.Exit\n",
      "******************************\n"
     ]
    }
   ],
   "source": [
    "nameList = []\n",
    "\n",
    "def storeName():\n",
    "    name = input(\"Enter the name to be saved:\")\n",
    "    name=name.strip().title()\n",
    "    nameList.append(name)\n",
    "    return name\n",
    "\n",
    "def listNames():\n",
    "    print(\"*\"*30)\n",
    "    print(\"Names in the list\")\n",
    "    print(\"*\"*30)\n",
    "    for name in nameList:\n",
    "        print(name)\n",
    "    print(\"*\",30)\n",
    "\n",
    "def searchName(search):\n",
    "    search=search.strip().title()\n",
    "    for name in nameList:\n",
    "        if name == search:\n",
    "            print(\"Name exist in the list\")\n",
    "    \n",
    "\n",
    "while True:\n",
    "    print(\"*\",30)\n",
    "    print(\"1.Enter a Name\")\n",
    "    print(\"2.List the Names\")\n",
    "    print(\"3.Search for a Name\")\n",
    "    print(\"4.Exit\")\n",
    "    print(\"*\"*30)\n",
    "\n",
    "    choice=input(\"Enter your choice:\")\n",
    "    print(\"You have entered choice:\",choice)\n",
    "\n",
    "    if int(choice) == 1:\n",
    "        name = storeName()\n",
    "        print(\"Name {} added sucessfully\".format(name))\n",
    "    elif int (choice)==2:\n",
    "        listNames()\n",
    "    elif int (choice)==3:\n",
    "        name=input(\"Enter a name to be searched\")\n",
    "        searchName(name)\n",
    "    elif int(choice) == 4:\n",
    "        exit()\n",
    "\n",
    "\n"
   ]
  },
  {
   "cell_type": "code",
   "execution_count": null,
   "metadata": {},
   "outputs": [],
   "source": []
  },
  {
   "cell_type": "code",
   "execution_count": 5,
   "metadata": {},
   "outputs": [
    {
     "ename": "AttributeError",
     "evalue": "partially initialized module 'pandas' has no attribute '_pandas_parser_CAPI' (most likely due to a circular import)",
     "output_type": "error",
     "traceback": [
      "\u001b[1;31m---------------------------------------------------------------------------\u001b[0m",
      "\u001b[1;31mAttributeError\u001b[0m                            Traceback (most recent call last)",
      "\u001b[1;32mc:\\Users\\HP\\Downloads\\new.ipynb Cell 62\u001b[0m line \u001b[0;36m1\n\u001b[1;32m----> <a href='vscode-notebook-cell:/c%3A/Users/HP/Downloads/new.ipynb#Y115sZmlsZQ%3D%3D?line=0'>1</a>\u001b[0m \u001b[39mimport\u001b[39;00m \u001b[39mpandas\u001b[39;00m \u001b[39mas\u001b[39;00m \u001b[39mpd\u001b[39;00m\n\u001b[0;32m      <a href='vscode-notebook-cell:/c%3A/Users/HP/Downloads/new.ipynb#Y115sZmlsZQ%3D%3D?line=1'>2</a>\u001b[0m \u001b[39mfrom\u001b[39;00m \u001b[39mrdkit\u001b[39;00m \u001b[39mimport\u001b[39;00m Chem\n\u001b[0;32m      <a href='vscode-notebook-cell:/c%3A/Users/HP/Downloads/new.ipynb#Y115sZmlsZQ%3D%3D?line=2'>3</a>\u001b[0m \u001b[39mfrom\u001b[39;00m \u001b[39mrdkit\u001b[39;00m\u001b[39m.\u001b[39;00m\u001b[39mChem\u001b[39;00m \u001b[39mimport\u001b[39;00m Descriptors\n",
      "File \u001b[1;32mc:\\Users\\HP\\AppData\\Local\\Programs\\Python\\Python311\\Lib\\site-packages\\pandas\\__init__.py:148\u001b[0m\n\u001b[0;32m    129\u001b[0m \u001b[39mfrom\u001b[39;00m \u001b[39mpandas\u001b[39;00m\u001b[39m.\u001b[39;00m\u001b[39mcore\u001b[39;00m\u001b[39m.\u001b[39;00m\u001b[39mcomputation\u001b[39;00m\u001b[39m.\u001b[39;00m\u001b[39mapi\u001b[39;00m \u001b[39mimport\u001b[39;00m \u001b[39meval\u001b[39m\n\u001b[0;32m    131\u001b[0m \u001b[39mfrom\u001b[39;00m \u001b[39mpandas\u001b[39;00m\u001b[39m.\u001b[39;00m\u001b[39mcore\u001b[39;00m\u001b[39m.\u001b[39;00m\u001b[39mreshape\u001b[39;00m\u001b[39m.\u001b[39;00m\u001b[39mapi\u001b[39;00m \u001b[39mimport\u001b[39;00m (\n\u001b[0;32m    132\u001b[0m     concat,\n\u001b[0;32m    133\u001b[0m     lreshape,\n\u001b[1;32m   (...)\u001b[0m\n\u001b[0;32m    145\u001b[0m     qcut,\n\u001b[0;32m    146\u001b[0m )\n\u001b[1;32m--> 148\u001b[0m \u001b[39mfrom\u001b[39;00m \u001b[39mpandas\u001b[39;00m \u001b[39mimport\u001b[39;00m api, arrays, errors, io, plotting, tseries\n\u001b[0;32m    149\u001b[0m \u001b[39mfrom\u001b[39;00m \u001b[39mpandas\u001b[39;00m \u001b[39mimport\u001b[39;00m testing\n\u001b[0;32m    150\u001b[0m \u001b[39mfrom\u001b[39;00m \u001b[39mpandas\u001b[39;00m\u001b[39m.\u001b[39;00m\u001b[39mutil\u001b[39;00m\u001b[39m.\u001b[39;00m\u001b[39m_print_versions\u001b[39;00m \u001b[39mimport\u001b[39;00m show_versions\n",
      "File \u001b[1;32mc:\\Users\\HP\\AppData\\Local\\Programs\\Python\\Python311\\Lib\\site-packages\\pandas\\api\\__init__.py:2\u001b[0m\n\u001b[0;32m      1\u001b[0m \u001b[39m\"\"\" public toolkit API \"\"\"\u001b[39;00m\n\u001b[1;32m----> 2\u001b[0m \u001b[39mfrom\u001b[39;00m \u001b[39mpandas\u001b[39;00m\u001b[39m.\u001b[39;00m\u001b[39mapi\u001b[39;00m \u001b[39mimport\u001b[39;00m (\n\u001b[0;32m      3\u001b[0m     extensions,\n\u001b[0;32m      4\u001b[0m     indexers,\n\u001b[0;32m      5\u001b[0m     interchange,\n\u001b[0;32m      6\u001b[0m     types,\n\u001b[0;32m      7\u001b[0m     typing,\n\u001b[0;32m      8\u001b[0m )\n\u001b[0;32m     10\u001b[0m __all__ \u001b[39m=\u001b[39m [\n\u001b[0;32m     11\u001b[0m     \u001b[39m\"\u001b[39m\u001b[39minterchange\u001b[39m\u001b[39m\"\u001b[39m,\n\u001b[0;32m     12\u001b[0m     \u001b[39m\"\u001b[39m\u001b[39mextensions\u001b[39m\u001b[39m\"\u001b[39m,\n\u001b[1;32m   (...)\u001b[0m\n\u001b[0;32m     15\u001b[0m     \u001b[39m\"\u001b[39m\u001b[39mtyping\u001b[39m\u001b[39m\"\u001b[39m,\n\u001b[0;32m     16\u001b[0m ]\n",
      "File \u001b[1;32mc:\\Users\\HP\\AppData\\Local\\Programs\\Python\\Python311\\Lib\\site-packages\\pandas\\api\\typing\\__init__.py:31\u001b[0m\n\u001b[0;32m     19\u001b[0m \u001b[39mfrom\u001b[39;00m \u001b[39mpandas\u001b[39;00m\u001b[39m.\u001b[39;00m\u001b[39mcore\u001b[39;00m\u001b[39m.\u001b[39;00m\u001b[39mwindow\u001b[39;00m \u001b[39mimport\u001b[39;00m (\n\u001b[0;32m     20\u001b[0m     Expanding,\n\u001b[0;32m     21\u001b[0m     ExpandingGroupby,\n\u001b[1;32m   (...)\u001b[0m\n\u001b[0;32m     26\u001b[0m     Window,\n\u001b[0;32m     27\u001b[0m )\n\u001b[0;32m     29\u001b[0m \u001b[39m# TODO: Can't import Styler without importing jinja2\u001b[39;00m\n\u001b[0;32m     30\u001b[0m \u001b[39m# from pandas.io.formats.style import Styler\u001b[39;00m\n\u001b[1;32m---> 31\u001b[0m \u001b[39mfrom\u001b[39;00m \u001b[39mpandas\u001b[39;00m\u001b[39m.\u001b[39;00m\u001b[39mio\u001b[39;00m\u001b[39m.\u001b[39;00m\u001b[39mjson\u001b[39;00m\u001b[39m.\u001b[39;00m\u001b[39m_json\u001b[39;00m \u001b[39mimport\u001b[39;00m JsonReader\n\u001b[0;32m     32\u001b[0m \u001b[39mfrom\u001b[39;00m \u001b[39mpandas\u001b[39;00m\u001b[39m.\u001b[39;00m\u001b[39mio\u001b[39;00m\u001b[39m.\u001b[39;00m\u001b[39mstata\u001b[39;00m \u001b[39mimport\u001b[39;00m StataReader\n\u001b[0;32m     34\u001b[0m __all__ \u001b[39m=\u001b[39m [\n\u001b[0;32m     35\u001b[0m     \u001b[39m\"\u001b[39m\u001b[39mDataFrameGroupBy\u001b[39m\u001b[39m\"\u001b[39m,\n\u001b[0;32m     36\u001b[0m     \u001b[39m\"\u001b[39m\u001b[39mDatetimeIndexResamplerGroupby\u001b[39m\u001b[39m\"\u001b[39m,\n\u001b[1;32m   (...)\u001b[0m\n\u001b[0;32m     54\u001b[0m     \u001b[39m\"\u001b[39m\u001b[39mWindow\u001b[39m\u001b[39m\"\u001b[39m,\n\u001b[0;32m     55\u001b[0m ]\n",
      "File \u001b[1;32mc:\\Users\\HP\\AppData\\Local\\Programs\\Python\\Python311\\Lib\\site-packages\\pandas\\io\\json\\__init__.py:1\u001b[0m\n\u001b[1;32m----> 1\u001b[0m \u001b[39mfrom\u001b[39;00m \u001b[39mpandas\u001b[39;00m\u001b[39m.\u001b[39;00m\u001b[39mio\u001b[39;00m\u001b[39m.\u001b[39;00m\u001b[39mjson\u001b[39;00m\u001b[39m.\u001b[39;00m\u001b[39m_json\u001b[39;00m \u001b[39mimport\u001b[39;00m (\n\u001b[0;32m      2\u001b[0m     read_json,\n\u001b[0;32m      3\u001b[0m     to_json,\n\u001b[0;32m      4\u001b[0m     ujson_dumps \u001b[39mas\u001b[39;00m dumps,\n\u001b[0;32m      5\u001b[0m     ujson_loads \u001b[39mas\u001b[39;00m loads,\n\u001b[0;32m      6\u001b[0m )\n\u001b[0;32m      7\u001b[0m \u001b[39mfrom\u001b[39;00m \u001b[39mpandas\u001b[39;00m\u001b[39m.\u001b[39;00m\u001b[39mio\u001b[39;00m\u001b[39m.\u001b[39;00m\u001b[39mjson\u001b[39;00m\u001b[39m.\u001b[39;00m\u001b[39m_table_schema\u001b[39;00m \u001b[39mimport\u001b[39;00m build_table_schema\n\u001b[0;32m      9\u001b[0m __all__ \u001b[39m=\u001b[39m [\n\u001b[0;32m     10\u001b[0m     \u001b[39m\"\u001b[39m\u001b[39mdumps\u001b[39m\u001b[39m\"\u001b[39m,\n\u001b[0;32m     11\u001b[0m     \u001b[39m\"\u001b[39m\u001b[39mloads\u001b[39m\u001b[39m\"\u001b[39m,\n\u001b[1;32m   (...)\u001b[0m\n\u001b[0;32m     14\u001b[0m     \u001b[39m\"\u001b[39m\u001b[39mbuild_table_schema\u001b[39m\u001b[39m\"\u001b[39m,\n\u001b[0;32m     15\u001b[0m ]\n",
      "File \u001b[1;32mc:\\Users\\HP\\AppData\\Local\\Programs\\Python\\Python311\\Lib\\site-packages\\pandas\\io\\json\\_json.py:67\u001b[0m\n\u001b[0;32m     62\u001b[0m \u001b[39mfrom\u001b[39;00m \u001b[39mpandas\u001b[39;00m\u001b[39m.\u001b[39;00m\u001b[39mio\u001b[39;00m\u001b[39m.\u001b[39;00m\u001b[39mjson\u001b[39;00m\u001b[39m.\u001b[39;00m\u001b[39m_normalize\u001b[39;00m \u001b[39mimport\u001b[39;00m convert_to_line_delimits\n\u001b[0;32m     63\u001b[0m \u001b[39mfrom\u001b[39;00m \u001b[39mpandas\u001b[39;00m\u001b[39m.\u001b[39;00m\u001b[39mio\u001b[39;00m\u001b[39m.\u001b[39;00m\u001b[39mjson\u001b[39;00m\u001b[39m.\u001b[39;00m\u001b[39m_table_schema\u001b[39;00m \u001b[39mimport\u001b[39;00m (\n\u001b[0;32m     64\u001b[0m     build_table_schema,\n\u001b[0;32m     65\u001b[0m     parse_table_schema,\n\u001b[0;32m     66\u001b[0m )\n\u001b[1;32m---> 67\u001b[0m \u001b[39mfrom\u001b[39;00m \u001b[39mpandas\u001b[39;00m\u001b[39m.\u001b[39;00m\u001b[39mio\u001b[39;00m\u001b[39m.\u001b[39;00m\u001b[39mparsers\u001b[39;00m\u001b[39m.\u001b[39;00m\u001b[39mreaders\u001b[39;00m \u001b[39mimport\u001b[39;00m validate_integer\n\u001b[0;32m     69\u001b[0m \u001b[39mif\u001b[39;00m TYPE_CHECKING:\n\u001b[0;32m     70\u001b[0m     \u001b[39mfrom\u001b[39;00m \u001b[39mcollections\u001b[39;00m\u001b[39m.\u001b[39;00m\u001b[39mabc\u001b[39;00m \u001b[39mimport\u001b[39;00m (\n\u001b[0;32m     71\u001b[0m         Hashable,\n\u001b[0;32m     72\u001b[0m         Mapping,\n\u001b[0;32m     73\u001b[0m     )\n",
      "File \u001b[1;32mc:\\Users\\HP\\AppData\\Local\\Programs\\Python\\Python311\\Lib\\site-packages\\pandas\\io\\parsers\\__init__.py:1\u001b[0m\n\u001b[1;32m----> 1\u001b[0m \u001b[39mfrom\u001b[39;00m \u001b[39mpandas\u001b[39;00m\u001b[39m.\u001b[39;00m\u001b[39mio\u001b[39;00m\u001b[39m.\u001b[39;00m\u001b[39mparsers\u001b[39;00m\u001b[39m.\u001b[39;00m\u001b[39mreaders\u001b[39;00m \u001b[39mimport\u001b[39;00m (\n\u001b[0;32m      2\u001b[0m     TextFileReader,\n\u001b[0;32m      3\u001b[0m     TextParser,\n\u001b[0;32m      4\u001b[0m     read_csv,\n\u001b[0;32m      5\u001b[0m     read_fwf,\n\u001b[0;32m      6\u001b[0m     read_table,\n\u001b[0;32m      7\u001b[0m )\n\u001b[0;32m      9\u001b[0m __all__ \u001b[39m=\u001b[39m [\u001b[39m\"\u001b[39m\u001b[39mTextFileReader\u001b[39m\u001b[39m\"\u001b[39m, \u001b[39m\"\u001b[39m\u001b[39mTextParser\u001b[39m\u001b[39m\"\u001b[39m, \u001b[39m\"\u001b[39m\u001b[39mread_csv\u001b[39m\u001b[39m\"\u001b[39m, \u001b[39m\"\u001b[39m\u001b[39mread_fwf\u001b[39m\u001b[39m\"\u001b[39m, \u001b[39m\"\u001b[39m\u001b[39mread_table\u001b[39m\u001b[39m\"\u001b[39m]\n",
      "File \u001b[1;32mc:\\Users\\HP\\AppData\\Local\\Programs\\Python\\Python311\\Lib\\site-packages\\pandas\\io\\parsers\\readers.py:27\u001b[0m\n\u001b[0;32m     24\u001b[0m \u001b[39mimport\u001b[39;00m \u001b[39mnumpy\u001b[39;00m \u001b[39mas\u001b[39;00m \u001b[39mnp\u001b[39;00m\n\u001b[0;32m     26\u001b[0m \u001b[39mfrom\u001b[39;00m \u001b[39mpandas\u001b[39;00m\u001b[39m.\u001b[39;00m\u001b[39m_libs\u001b[39;00m \u001b[39mimport\u001b[39;00m lib\n\u001b[1;32m---> 27\u001b[0m \u001b[39mfrom\u001b[39;00m \u001b[39mpandas\u001b[39;00m\u001b[39m.\u001b[39;00m\u001b[39m_libs\u001b[39;00m\u001b[39m.\u001b[39;00m\u001b[39mparsers\u001b[39;00m \u001b[39mimport\u001b[39;00m STR_NA_VALUES\n\u001b[0;32m     28\u001b[0m \u001b[39mfrom\u001b[39;00m \u001b[39mpandas\u001b[39;00m\u001b[39m.\u001b[39;00m\u001b[39merrors\u001b[39;00m \u001b[39mimport\u001b[39;00m (\n\u001b[0;32m     29\u001b[0m     AbstractMethodError,\n\u001b[0;32m     30\u001b[0m     ParserWarning,\n\u001b[0;32m     31\u001b[0m )\n\u001b[0;32m     32\u001b[0m \u001b[39mfrom\u001b[39;00m \u001b[39mpandas\u001b[39;00m\u001b[39m.\u001b[39;00m\u001b[39mutil\u001b[39;00m\u001b[39m.\u001b[39;00m\u001b[39m_decorators\u001b[39;00m \u001b[39mimport\u001b[39;00m Appender\n",
      "File \u001b[1;32mparsers.pyx:1417\u001b[0m, in \u001b[0;36minit pandas._libs.parsers\u001b[1;34m()\u001b[0m\n",
      "\u001b[1;31mAttributeError\u001b[0m: partially initialized module 'pandas' has no attribute '_pandas_parser_CAPI' (most likely due to a circular import)"
     ]
    }
   ],
   "source": [
    "\n",
    "\n",
    "\n",
    "\n",
    "import pandas as pd\n",
    "from rdkit import Chem\n",
    "from rdkit.Chem import Descriptors\n",
    "\n",
    "def calculate_properties(smiles):\n",
    "    mol = Chem.MolFromSmiles(smiles)\n",
    "    properties = {}\n",
    "\n",
    "    properties[\"Molecular Weight\"] = Descriptors.MolWt(mol)\n",
    "    properties[\"Number of Heavy Atoms\"] = Descriptors.HeavyAtomMolWt(mol)\n",
    "    properties[\"FractionCSP3\"] = Descriptors.FractionCSP3(mol)\n",
    "    properties[\"Number of Rotatable Bonds\"] = Descriptors.NumRotatableBonds(mol)\n",
    "    properties[\"Descriptors.NumHAcceptors\"] = Descriptors.NumHAcceptors(mol)\n",
    "    properties[\"Descriptors.NumHDonors\"] = Descriptors.NumHDonors(mol)\n",
    "    properties[\"Molar Refractivity\"] = Descriptors.MolMR(mol)\n",
    "    properties[\"TPSA\"] = Descriptors.TPSA(mol)\n",
    "    properties[\"Log P\"] = Descriptors.MolLogP(mol)\n",
    "\n",
    "    return properties\n",
    "\n",
    "def check_lipinski(properties):\n",
    "    k = properties[\"Molecular Weight\"]\n",
    "    x = properties[\"Log P\"]\n",
    "    a = properties[\"Descriptors.NumHAcceptors\"]\n",
    "    l = properties[\"Descriptors.NumHDonors\"]\n",
    "\n",
    "    return l <= 5 and a <= 10 and k <= 500 and x <= 5\n",
    "\n",
    "def check_ghose(properties):\n",
    "    x = properties[\"Log P\"]\n",
    "    o = properties[\"Molar Refractivity\"]\n",
    "    k = properties[\"Molecular Weight\"]\n",
    "    C = properties[\"TPSA\"]\n",
    "\n",
    "    return -0.4 <= x <= 5.6 and 40 <= o <= 130 and 160 <= k <= 480 and 70 <= C <= 20\n",
    "\n",
    "def check_veber(properties):\n",
    "    i = properties[\"Number of Rotatable Bonds\"]\n",
    "    C = properties[\"TPSA\"]\n",
    "\n",
    "    return i <= 10 and C <= 140\n",
    "\n",
    "def check_egan(properties):\n",
    "    x = properties[\"Log P\"]\n",
    "    C = properties[\"TPSA\"]\n",
    "\n",
    "    return x <= 5.88 and C <= 131.6\n",
    "\n",
    "def check_muegge(properties):\n",
    "    k = properties[\"Molecular Weight\"]\n",
    "    x = properties[\"Log P\"]\n",
    "    C = properties[\"TPSA\"]\n",
    "    m = properties[\"Number of Heavy Atoms\"]\n",
    "    t = properties[\"Number of Heavy Atoms\"]\n",
    "    i = properties[\"Number of Rotatable Bonds\"]\n",
    "    a = properties[\"Descriptors.NumHAcceptors\"]\n",
    "    l = properties[\"Descriptors.NumHDonors\"]\n",
    "\n",
    "    return 200 <= k <= 600 and -2 <= x <= 5 and 150 <= C <= 140 and m <= 7 and t > 1 and i <= 15 and a <= 10 and l <= 10\n",
    "\n",
    "def check_leadlikeness(properties):\n",
    "    k = properties[\"Molecular Weight\"]\n",
    "    x = properties[\"Log P\"]\n",
    "    i = properties[\"Number of Rotatable Bonds\"]\n",
    "\n",
    "    return 250 <= k <= 350 and x <= 3.5 and i <= 7\n",
    "\n",
    "smiles = input(\"Enter the Smile Format: \")\n",
    "properties = calculate_properties(smiles)\n",
    "\n",
    "if check_lipinski(properties):\n",
    "    print(\"Lipinski: Yes; 0 violation\")\n",
    "else:\n",
    "    print(\"Lipinski: No; violation\")\n",
    "\n",
    "if check_ghose(properties):\n",
    "    print(\"Ghose: No\")\n",
    "else:\n",
    "    print(\"Ghose: Yes\")\n",
    "\n",
    "if check_veber(properties):\n",
    "    print(\"Veber: Yes\")\n",
    "else:\n",
    "    print(\"Veber: No\")\n",
    "\n",
    "if check_egan(properties):\n",
    "    print(\"Egan: Yes\")\n",
    "else:\n",
    "    print(\"Egan: No\")\n",
    "\n",
    "if check_muegge(properties):\n",
    "    print(\"Muegge: Yes\")\n",
    "else:\n",
    "    print(\"Muegge: No; Voilation Found\")\n",
    "\n",
    "if check_leadlikeness(properties):\n",
    "    print(\"Leadlikeness: Yes\")\n",
    "else:\n",
    "    print(\"Leadlikeness: No; Voilation Found\")\n",
    "\n",
    "data = {\n",
    "    \"Molecular Weight\": [properties[\"Molecular Weight\"]],\n",
    "    \"Number of Heavy Atoms\": [properties[\"Number of Heavy Atoms\"]],\n",
    "    \"Log P\": [properties[\"Log P\"]],\n",
    "    \"TPSA\": [properties[\"TPSA\"]],\n",
    "    \"Molar Refractivity\": [properties[\"Molar Refractivity\"]],\n",
    "    \"Descriptors.NumHDonors\": [properties[\"Descriptors.NumHDonors\"]],\n",
    "    \"Descriptors.NumHAcceptors\": [properties[\"Descriptors.NumHAcceptors\"]],\n",
    "    \"Number of Rotatable Bonds\": [properties[\"Number of Rotatable Bonds\"]],\n",
    "    \"FractionCSP3\": [properties[\"FractionCSP3\"]],\n",
    "}\n",
    "\n",
    "df = pd.DataFrame(data)\n",
    "df.to_csv(\"df.csv\", index=False)\n",
    "\n"
   ]
  },
  {
   "cell_type": "code",
   "execution_count": 7,
   "metadata": {},
   "outputs": [
    {
     "ename": "ValueError",
     "evalue": "could not convert string to float: 'Enter the number of SMILES inputs: '",
     "output_type": "error",
     "traceback": [
      "\u001b[1;31m---------------------------------------------------------------------------\u001b[0m",
      "\u001b[1;31mValueError\u001b[0m                                Traceback (most recent call last)",
      "\u001b[1;32mc:\\Users\\HP\\Downloads\\new.ipynb Cell 63\u001b[0m line \u001b[0;36m6\n\u001b[0;32m     <a href='vscode-notebook-cell:/c%3A/Users/HP/Downloads/new.ipynb#Y116sZmlsZQ%3D%3D?line=65'>66</a>\u001b[0m     \u001b[39mreturn\u001b[39;00m \u001b[39m250\u001b[39m \u001b[39m<\u001b[39m\u001b[39m=\u001b[39m k \u001b[39m<\u001b[39m\u001b[39m=\u001b[39m \u001b[39m350\u001b[39m \u001b[39mand\u001b[39;00m x \u001b[39m<\u001b[39m\u001b[39m=\u001b[39m \u001b[39m3.5\u001b[39m \u001b[39mand\u001b[39;00m i \u001b[39m<\u001b[39m\u001b[39m=\u001b[39m \u001b[39m7\u001b[39m\n\u001b[0;32m     <a href='vscode-notebook-cell:/c%3A/Users/HP/Downloads/new.ipynb#Y116sZmlsZQ%3D%3D?line=67'>68</a>\u001b[0m \u001b[39m# Input handling\u001b[39;00m\n\u001b[1;32m---> <a href='vscode-notebook-cell:/c%3A/Users/HP/Downloads/new.ipynb#Y116sZmlsZQ%3D%3D?line=68'>69</a>\u001b[0m num_inputs \u001b[39m=\u001b[39m \u001b[39mint\u001b[39m(\u001b[39mfloat\u001b[39;49m(\u001b[39m\"\u001b[39;49m\u001b[39mEnter the number of SMILES inputs: \u001b[39;49m\u001b[39m\"\u001b[39;49m))\n\u001b[0;32m     <a href='vscode-notebook-cell:/c%3A/Users/HP/Downloads/new.ipynb#Y116sZmlsZQ%3D%3D?line=69'>70</a>\u001b[0m smiles_list \u001b[39m=\u001b[39m []\n\u001b[0;32m     <a href='vscode-notebook-cell:/c%3A/Users/HP/Downloads/new.ipynb#Y116sZmlsZQ%3D%3D?line=70'>71</a>\u001b[0m \u001b[39mfor\u001b[39;00m i \u001b[39min\u001b[39;00m \u001b[39mrange\u001b[39m(num_inputs):\n",
      "\u001b[1;31mValueError\u001b[0m: could not convert string to float: 'Enter the number of SMILES inputs: '"
     ]
    }
   ],
   "source": [
    "import pandas as pd\n",
    "from rdkit import Chem\n",
    "from rdkit.Chem import Descriptors\n",
    "\n",
    "def calculate_properties(smiles):\n",
    "    mol = Chem.MolFromSmiles(smiles)\n",
    "    properties = {}\n",
    "\n",
    "    properties[\"Molecular Weight\"] = Descriptors.MolWt(mol)\n",
    "    properties[\"Number of Heavy Atoms\"] = Descriptors.HeavyAtomMolWt(mol)\n",
    "    properties[\"FractionCSP3\"] = Descriptors.FractionCSP3(mol)\n",
    "    properties[\"Number of Rotatable Bonds\"] = Descriptors.NumRotatableBonds(mol)\n",
    "    properties[\"NumHAcceptors\"] = Descriptors.NumHAcceptors(mol)\n",
    "    properties[\"NumHDonors\"] = Descriptors.NumHDonors(mol)\n",
    "    properties[\"Molar Refractivity\"] = Descriptors.MolMR(mol)\n",
    "    properties[\"TPSA\"] = Descriptors.TPSA(mol)\n",
    "    properties[\"Log P\"] = Descriptors.MolLogP(mol)\n",
    "\n",
    "    return properties\n",
    "\n",
    "def check_lipinski(properties):\n",
    "    k = properties[\"Molecular Weight\"]\n",
    "    x = properties[\"Log P\"]\n",
    "    a = properties[\"NumHAcceptors\"]\n",
    "    l = properties[\"NumHDonors\"]\n",
    "\n",
    "    return l <= 5 and a <= 10 and k <= 500 and x <= 5\n",
    "\n",
    "def check_ghose(properties):\n",
    "    x = properties[\"Log P\"]\n",
    "    o = properties[\"Molar Refractivity\"]\n",
    "    k = properties[\"Molecular Weight\"]\n",
    "    C = properties[\"TPSA\"]\n",
    "\n",
    "    return -0.4 <= x <= 5.6 and 40 <= o <= 130 and 160 <= k <= 480 and 70 <= C <= 120\n",
    "\n",
    "def check_veber(properties):\n",
    "    i = properties[\"Number of Rotatable Bonds\"]\n",
    "    C = properties[\"TPSA\"]\n",
    "\n",
    "    return i <= 10 and C <= 140\n",
    "\n",
    "def check_egan(properties):\n",
    "    x = properties[\"Log P\"]\n",
    "    C = properties[\"TPSA\"]\n",
    "\n",
    "    return x <= 5.88 and C <= 131.6\n",
    "\n",
    "def check_muegge(properties):\n",
    "    k = properties[\"Molecular Weight\"]\n",
    "    x = properties[\"Log P\"]\n",
    "    C = properties[\"TPSA\"]\n",
    "    m = properties[\"Number of Heavy Atoms\"]\n",
    "    t = properties[\"Number of Heavy Atoms\"]\n",
    "    i = properties[\"Number of Rotatable Bonds\"]\n",
    "    a = properties[\"NumHAcceptors\"]\n",
    "    l = properties[\"NumHDonors\"]\n",
    "\n",
    "    return 200 <= k <= 600 and -2 <= x <= 5 and 150 <= C <= 350\n",
    "\n",
    "def check_leadlikeness(properties):\n",
    "    k = properties[\"Molecular Weight\"]\n",
    "    x = properties[\"Log P\"]\n",
    "    i = properties[\"Number of Rotatable Bonds\"]\n",
    "\n",
    "    return 250 <= k <= 350 and x <= 3.5 and i <= 7\n",
    "\n",
    "# Input handling\n",
    "num_inputs = int(float(\"Enter the number of SMILES inputs: \"))\n",
    "smiles_list = []\n",
    "for i in range(num_inputs):\n",
    "    smiles = input(f\"Enter SMILES {i + 1}: \")\n",
    "    smiles_list.append(smiles)\n",
    "\n",
    "# Process and print properties for each input\n",
    "for i, smiles in enumerate(smiles_list):\n",
    "    print(f\"\\nProperties for SMILES {i + 1}:\")\n",
    "    properties = calculate_properties(smiles)\n",
    "\n",
    "    if check_lipinski(properties):\n",
    "        print(\"Lipinski: Yes; 0 violation\")\n",
    "    else:\n",
    "        print(\"Lipinski: No; violation\")\n",
    "\n",
    "    if check_ghose(properties):\n",
    "        print(\"Ghose: Yes\")\n",
    "    else:\n",
    "        print(\"Ghose: No\")\n",
    "\n",
    "    if check_veber(properties):\n",
    "        print(\"Veber: Yes\")\n",
    "    else:\n",
    "        print(\"Veber: No\")\n",
    "\n",
    "    if check_egan(properties):\n",
    "        print(\"Egan: Yes\")\n",
    "    else:\n",
    "        print(\"Egan: No\")\n",
    "\n",
    "    if check_muegge(properties):\n",
    "        print(\"Muegge: Yes\")\n",
    "    else:\n",
    "        print(\"Muegge: No; Violation Found\")\n",
    "\n",
    "    if check_leadlikeness(properties):\n",
    "        print(\"Leadlikeness: Yes\")\n",
    "    else:\n",
    "        print(\"Leadlikeness: No; Violation Found\")\n",
    "\n",
    "# Export properties to CSV\n",
    "data = {\n",
    "    \"Molecular Weight\": [properties[\"Molecular Weight\"]],\n",
    "    \"Number of Heavy Atoms\": [properties[\"Number of Heavy Atoms\"]],\n",
    "    \"Log P\": [properties[\"Log P\"]],\n",
    "    \"TPSA\": [properties[\"TPSA\"]],\n",
    "    \"Molar Refractivity\": [properties[\"Molar Refractivity\"]],\n",
    "    \"NumHDonors\": [properties[\"NumHDonors\"]],\n",
    "    \"NumHAcceptors\": [properties[\"NumHAcceptors\"]],\n",
    "    \"Number of Rotatable Bonds\": [properties[\"Number of Rotatable Bonds\"]],\n",
    "    \"FractionCSP3\": [properties[\"FractionCSP3\"]],\n",
    "}\n",
    "\n",
    "df = pd.DataFrame(data)\n",
    "df.to_csv(\"df.csv\", index=False)\n"
   ]
  },
  {
   "cell_type": "code",
   "execution_count": 7,
   "metadata": {},
   "outputs": [
    {
     "name": "stdout",
     "output_type": "stream",
     "text": [
      "1 2 3 4 5 6 7 8 9 10 "
     ]
    }
   ],
   "source": [
    "\n",
    "# Numbers from 1 to 10\n",
    "n = 1\n",
    "while n <= 10:\n",
    "   print(n, end=' ')\n",
    "   n = n+1"
   ]
  },
  {
   "cell_type": "code",
   "execution_count": 9,
   "metadata": {},
   "outputs": [
    {
     "name": "stdout",
     "output_type": "stream",
     "text": [
      "5050\n"
     ]
    }
   ],
   "source": [
    "#Write a Python program that uses a for loop to calculate the sum of all numbers from 1 to 100.\n",
    "sum= 0\n",
    "for i in range(1, 101):\n",
    "    sum = sum + i\n",
    "print(sum)\n"
   ]
  },
  {
   "cell_type": "code",
   "execution_count": 11,
   "metadata": {},
   "outputs": [
    {
     "name": "stdout",
     "output_type": "stream",
     "text": [
      "{'Alice': 13, 'Bob': 12, 'Carol': 4}\n"
     ]
    }
   ],
   "source": [
    "#Create a dictionary called student_grades that stores the grades of three students (Alice, Bob, and Carol) for a test. Use their names as keys and assign random grades (e.g., out of 100) as values.\n",
    "import random\n",
    "\n",
    "\n",
    "alice_grade= random.randint(0, 100)\n",
    "bob_grade = random.randint(0, 100)\n",
    "carol_grade = random.randint(0, 100)\n",
    "\n",
    "\n",
    "student_grades = {\n",
    "    \"Alice\": alice_grade,\n",
    "    \"Bob\": bob_grade,\n",
    "    \"Carol\": carol_grade\n",
    "}\n",
    "\n",
    "print(student_grades)\n",
    "\n",
    "\n"
   ]
  },
  {
   "cell_type": "code",
   "execution_count": 10,
   "metadata": {},
   "outputs": [
    {
     "name": "stdout",
     "output_type": "stream",
     "text": [
      "Even numbers from the input list: [6, 8]\n"
     ]
    }
   ],
   "source": [
    "#Write a Python program that takes a list of numbers as input and returns a new list containing only the even numbers from the original list.\n",
    "# Function to filter even numbers from a list\n",
    "def even(lst): \n",
    "    even_numbers = [x for x in input_list if x % 2 == 0]\n",
    "    return even_numbers\n",
    "\n"
   ]
  },
  {
   "cell_type": "code",
   "execution_count": null,
   "metadata": {},
   "outputs": [],
   "source": []
  },
  {
   "cell_type": "code",
   "execution_count": 5,
   "metadata": {},
   "outputs": [
    {
     "name": "stdout",
     "output_type": "stream",
     "text": [
      "\n",
      "Properties for Compound 1:\n",
      "Properties:\n",
      "Molecular Weight: 60.096000000000004\n",
      "Number of Heavy Atoms: 52.032\n",
      "Fraction of Sp3 Carbon Atoms: 1.0\n",
      "Number of Rotatable Bonds: 0\n",
      "Number of Hydrogen Acceptors: 1\n",
      "Number of Hydrogen Donors: 1\n",
      "Molar Refractivity: 17.3548\n",
      "Polar Surface Area: 20.23\n",
      "LogP (Partition Coefficient): 0.3871\n",
      "Properties:\n",
      "Molecular Weight: 60.096000000000004\n",
      "Number of Heavy Atoms: 52.032\n",
      "Fraction of Sp3 Carbon Atoms: 1.0\n",
      "Number of Rotatable Bonds: 0\n",
      "Number of Hydrogen Acceptors: 1\n",
      "Number of Hydrogen Donors: 1\n",
      "Molar Refractivity: 17.3548\n",
      "Polar Surface Area: 20.23\n",
      "LogP (Partition Coefficient): 0.3871\n",
      "Lipinski Rule of Five: Passed\n",
      "Ghose's Rule: Failed\n",
      "Veber's Rule: Passed\n",
      "Egan's Rule: Passed\n",
      "Muegge's Rule: Failed\n",
      "Leadlikeness: Failed\n",
      "\n",
      "Properties for Compound 2:\n",
      "Properties:\n",
      "Molecular Weight: 72.151\n",
      "Number of Heavy Atoms: 60.05499999999999\n",
      "Fraction of Sp3 Carbon Atoms: 1.0\n",
      "Number of Rotatable Bonds: 1\n",
      "Number of Hydrogen Acceptors: 0\n",
      "Number of Hydrogen Donors: 0\n",
      "Molar Refractivity: 25.12899999999999\n",
      "Polar Surface Area: 0.0\n",
      "LogP (Partition Coefficient): 2.0524\n",
      "Properties:\n",
      "Molecular Weight: 72.151\n",
      "Number of Heavy Atoms: 60.05499999999999\n",
      "Fraction of Sp3 Carbon Atoms: 1.0\n",
      "Number of Rotatable Bonds: 1\n",
      "Number of Hydrogen Acceptors: 0\n",
      "Number of Hydrogen Donors: 0\n",
      "Molar Refractivity: 25.12899999999999\n",
      "Polar Surface Area: 0.0\n",
      "LogP (Partition Coefficient): 2.0524\n",
      "Lipinski Rule of Five: Passed\n",
      "Ghose's Rule: Failed\n",
      "Veber's Rule: Passed\n",
      "Egan's Rule: Passed\n",
      "Muegge's Rule: Failed\n",
      "Leadlikeness: Failed\n",
      "Properties:\n",
      "Molecular Weight: 60.096000000000004\n",
      "Number of Heavy Atoms: 52.032\n",
      "Fraction of Sp3 Carbon Atoms: 1.0\n",
      "Number of Rotatable Bonds: 0\n",
      "Number of Hydrogen Acceptors: 1\n",
      "Number of Hydrogen Donors: 1\n",
      "Molar Refractivity: 17.3548\n",
      "Polar Surface Area: 20.23\n",
      "LogP (Partition Coefficient): 0.3871\n",
      "Properties:\n",
      "Molecular Weight: 72.151\n",
      "Number of Heavy Atoms: 60.05499999999999\n",
      "Fraction of Sp3 Carbon Atoms: 1.0\n",
      "Number of Rotatable Bonds: 1\n",
      "Number of Hydrogen Acceptors: 0\n",
      "Number of Hydrogen Donors: 0\n",
      "Molar Refractivity: 25.12899999999999\n",
      "Polar Surface Area: 0.0\n",
      "LogP (Partition Coefficient): 2.0524\n"
     ]
    }
   ],
   "source": [
    "import pandas as pd\n",
    "from rdkit import Chem\n",
    "from rdkit.Chem import Descriptors\n",
    "\n",
    "# Declared the function to calculate properties\n",
    "def calculate_properties(smiles):\n",
    "    mol = Chem.MolFromSmiles(smiles)\n",
    "    properties = {}\n",
    "\n",
    "    properties[\"Molecular Weight\"] = Descriptors.MolWt(mol)\n",
    "    properties[\"Number of Heavy Atoms\"] = Descriptors.HeavyAtomMolWt(mol)\n",
    "    properties[\"Fraction of Sp3 Carbon Atoms\"] = Descriptors.FractionCSP3(mol)\n",
    "    properties[\"Number of Rotatable Bonds\"] = Descriptors.NumRotatableBonds(mol)\n",
    "    properties[\"Number of Hydrogen Acceptors\"] = Descriptors.NumHAcceptors(mol)\n",
    "    properties[\"Number of Hydrogen Donors\"] = Descriptors.NumHDonors(mol)\n",
    "    properties[\"Molar Refractivity\"] = Descriptors.MolMR(mol)\n",
    "    properties[\"Polar Surface Area\"] = Descriptors.TPSA(mol)\n",
    "    properties[\"LogP (Partition Coefficient)\"] = Descriptors.MolLogP(mol)\n",
    "\n",
    "    print(\"Properties:\")\n",
    "    for prop, value in properties.items():\n",
    "        print(f\"{prop}: {value}\")\n",
    "    return properties\n",
    "\n",
    "# Check if a compound follows Lipinski's Rule of Five\n",
    "def check_lipinski(properties):\n",
    "    mw = properties[\"Molecular Weight\"]\n",
    "    logp = properties[\"LogP (Partition Coefficient)\"]\n",
    "    h_acceptors = properties[\"Number of Hydrogen Acceptors\"]\n",
    "    h_donors = properties[\"Number of Hydrogen Donors\"]\n",
    "    \n",
    "    if mw <= 500 and logp <= 5 and h_acceptors <= 10 and h_donors <= 5:\n",
    "        print(\"Lipinski Rule of Five: Passed\")\n",
    "    else:\n",
    "        print(\"Lipinski Rule of Five: Failed\")\n",
    "\n",
    "# Ghose's Rule\n",
    "def check_ghose(properties):\n",
    "    logp = properties[\"LogP (Partition Coefficient)\"]\n",
    "    molar_refractivity = properties[\"Molar Refractivity\"]\n",
    "    mw = properties[\"Molecular Weight\"]\n",
    "    tpsa = properties[\"Polar Surface Area\"]\n",
    "    \n",
    "    if -0.4 <= logp <= 5.6 and 40 <= molar_refractivity <= 130 and 160 <= mw <= 480 and 70 <= tpsa <= 120:\n",
    "        print(\"Ghose's Rule: Passed\")\n",
    "    else:\n",
    "        print(\"Ghose's Rule: Failed\")\n",
    "\n",
    "#Veber's Rule\n",
    "def check_veber(properties):\n",
    "    rotatable_bonds = properties[\"Number of Rotatable Bonds\"]\n",
    "    tpsa = properties[\"Polar Surface Area\"]\n",
    "    \n",
    "    if rotatable_bonds <= 10 and tpsa <= 140:\n",
    "        print(\"Veber's Rule: Passed\")\n",
    "    else:\n",
    "        print(\"Veber's Rule: Failed\")\n",
    "\n",
    "#Egan's Rule\n",
    "def check_egan(properties):\n",
    "    logp = properties[\"LogP (Partition Coefficient)\"]\n",
    "    tpsa = properties[\"Polar Surface Area\"]\n",
    "    \n",
    "    if logp <= 5.88 and tpsa <= 131.6:\n",
    "        print(\"Egan's Rule: Passed\")\n",
    "    else:\n",
    "        print(\"Egan's Rule: Failed\")\n",
    "\n",
    "#Muegge's Rule\n",
    "def check_muegge(properties):\n",
    "    mw = properties[\"Molecular Weight\"]\n",
    "    logp = properties[\"LogP (Partition Coefficient)\"]\n",
    "    tpsa = properties[\"Polar Surface Area\"]\n",
    "    num_heavy_atoms = properties[\"Number of Heavy Atoms\"]\n",
    "    rotatable_bonds = properties[\"Number of Rotatable Bonds\"]\n",
    "    h_acceptors = properties[\"Number of Hydrogen Acceptors\"]\n",
    "    h_donors = properties[\"Number of Hydrogen Donors\"]\n",
    "    \n",
    "    if 200 <= mw <= 600 and -2 <= logp <= 5 and 150 <= tpsa <= 350:\n",
    "        print(\"Muegge's Rule: Passed\")\n",
    "    else:\n",
    "        print(\"Muegge's Rule: Failed\")\n",
    "\n",
    "# Check if a compound meets leadlikeness criteria\n",
    "def check_leadlikeness(properties):\n",
    "    mw = properties[\"Molecular Weight\"]\n",
    "    logp = properties[\"LogP (Partition Coefficient)\"]\n",
    "    rotatable_bonds = properties[\"Number of Rotatable Bonds\"]\n",
    "    \n",
    "    if 250 <= mw <= 350 and logp <= 3.5 and rotatable_bonds <= 7:\n",
    "        print(\"Leadlikeness: Passed\")\n",
    "    else:\n",
    "        print(\"Leadlikeness: Failed\")\n",
    "\n",
    "# Get user input for the number of compounds\n",
    "num_inputs = int(input(\"Enter the number of compounds: \"))\n",
    "smiles_list = []\n",
    "\n",
    "# Collect SMILES notation for each compound\n",
    "for i in range(num_inputs):\n",
    "    smiles = input(f\"Enter SMILES for Compound {i + 1}: \")\n",
    "    smiles_list.append(smiles)\n",
    "\n",
    "# Process each compound and check various rules\n",
    "for i, smiles in enumerate(smiles_list):\n",
    "    print(f\"\\nProperties for Compound {i + 1}:\")\n",
    "    calculate_properties(smiles)\n",
    "    properties = calculate_properties(smiles)\n",
    "    check_lipinski(properties)\n",
    "    check_ghose(properties)\n",
    "    check_veber(properties)\n",
    "    check_egan(properties)\n",
    "    check_muegge(properties)\n",
    "    check_leadlikeness(properties)\n",
    "\n",
    "# Create a DataFrame and save it to a CSV file\n",
    "data = {\n",
    "    \"Molecular Weight\": [],\n",
    "    \"Number of Heavy Atoms\": [],\n",
    "    \"LogP (Partition Coefficient)\": [],\n",
    "    \"Polar Surface Area\": [],\n",
    "    \"Molar Refractivity\": [],\n",
    "    \"Number of Hydrogen Donors\": [],\n",
    "    \"Number of Hydrogen Acceptors\": [],\n",
    "    \"Number of Rotatable Bonds\": [],\n",
    "    \"Fraction of Sp3 Carbon Atoms\": [],\n",
    "}\n",
    "\n",
    "for smiles in smiles_list:\n",
    "    properties = calculate_properties(smiles)\n",
    "    for prop in data.keys():\n",
    "        data[prop].append(properties[prop])\n",
    "\n",
    "df = pd.DataFrame(data)\n",
    "df.to_csv(\"compound_properties.csv\", index=False)\n"
   ]
  },
  {
   "cell_type": "markdown",
   "metadata": {},
   "source": [
    "#define a class expense tracker that stores the expenses\n",
    "#and income in a dictionary\n",
    "#implement the method to\n",
    "# store the transaction\n",
    "#view transactions\n",
    "#calculate the total expense/income"
   ]
  },
  {
   "cell_type": "code",
   "execution_count": 5,
   "metadata": {},
   "outputs": [
    {
     "name": "stdout",
     "output_type": "stream",
     "text": [
      "Income\n",
      "{'category': 'Electricity Bill', 'Cost': 4500, 'Description': 'MDHC', 'Date': '20/09/2023'}\n",
      "{'category': 'Food', 'Cost': 500, 'Description': 'Cafe by valley', 'Date': '4/09/2023'}\n",
      "{'category': 'Electricity Bill', 'Cost': 4500, 'Description': 'MDHC', 'Date': '20/09/2023'}\n",
      "{'category': 'Food', 'Cost': 500, 'Description': 'Cafe by valley', 'Date': '4/09/2023'}\n",
      "total income\n",
      "10500\n",
      "Total Expense\n",
      "5000\n"
     ]
    }
   ],
   "source": [
    "class expenseTracker:\n",
    "    def __init__(self):\n",
    "        self.transcations = { \n",
    "            \"expenses\" : [] ,\n",
    "            \"income\" : [],\n",
    "        }\n",
    "    def storeTranscation(self,type,category,cost,desc,date):\n",
    "        transcation = {\n",
    "            \"category\":category ,\n",
    "            \"Cost\":cost,\n",
    "            \"Description\":desc,\n",
    "            \"Date\":date,\n",
    "        }\n",
    "        if type == \"expense\":\n",
    "            self.transcations['expenses'].append(transcation)\n",
    "        else:\n",
    "            self.transcations['income'].append(transcation)\n",
    "        return True\n",
    "    \n",
    "    def view_transcations(self):\n",
    "        print(\"Income\")\n",
    "        for expense in self.transcations ['expenses']:\n",
    "            print(expense)\n",
    "        \n",
    "        for expense in self.transcations['expenses']:\n",
    "            print(expense)\n",
    "    def total_incomeexpense(self):\n",
    "        print(\"total income\")\n",
    "        total_income=0\n",
    "        for income in self.transcations['income']:\n",
    "            total_income += income[\"Cost\"]\n",
    "        print(total_income)\n",
    "\n",
    "        print(\"Total Expense\")\n",
    "        total_expense = 0\n",
    "        for expenses in self.transcations['expenses']:\n",
    "            total_expense += expenses[\"Cost\"]\n",
    "        print(total_expense)\n",
    "\n",
    "mytranscations = expenseTracker()\n",
    "mytranscations.storeTranscation(\"expense\",\"Electricity Bill\",4500,\"MDHC\",\"20/09/2023\")\n",
    "mytranscations.storeTranscation(\"INCOME\", \"Pocket Money\",10500,\"From party\",\"5/09/2023\")\n",
    "mytranscations.storeTranscation(\"expense\",\"Food\",500,\"Cafe by valley\",\"4/09/2023\")\n",
    "\n",
    "mytranscations.view_transcations()\n",
    "mytranscations.total_incomeexpense()\n",
    "\n",
    "                                \n",
    "            \n",
    "        \n",
    "\n",
    "\n",
    "       \n",
    "\n",
    "\n",
    "\n",
    "\n",
    "\n",
    "        \n",
    "         \n",
    "\n",
    "\n",
    "        "
   ]
  },
  {
   "cell_type": "code",
   "execution_count": 13,
   "metadata": {},
   "outputs": [
    {
     "name": "stdout",
     "output_type": "stream",
     "text": [
      "{'Name': 'Abhi', 'Age': 21, 'Email': 'abh@gmail.com'}\n",
      "{'Name': 'Abhi', 'Age': 21, 'Email': 'abh@gmail.com', 'friends_dict': {}, 'Friends': []}\n",
      "Enter the name of your 1 st number\n",
      "Enter the name of your 2 st number\n",
      "Enter the name of your 3 st number\n",
      "Enter the name of your 4 st number\n",
      "Enter the name of your 5 st number\n",
      "{'Name': 'Abhi', 'Age': 21, 'Email': 'abh@gmail.com', 'friends_dict': {'Friends1': 'hhjh', 'Friends2': 'fggjh', 'Friends3': 'vgghbn', 'Friends4': 'b vbbnm', 'Friends5': 'bvbvnbm'}, 'Friends': ['hhjh', 'fggjh', 'vgghbn', 'b vbbnm', 'bvbvnbm']}\n"
     ]
    },
    {
     "ename": "KeyError",
     "evalue": "0",
     "output_type": "error",
     "traceback": [
      "\u001b[1;31m---------------------------------------------------------------------------\u001b[0m",
      "\u001b[1;31mKeyError\u001b[0m                                  Traceback (most recent call last)",
      "\u001b[1;32mc:\\Users\\HP\\Downloads\\new.ipynb Cell 72\u001b[0m line \u001b[0;36m2\n\u001b[0;32m     <a href='vscode-notebook-cell:/c%3A/Users/HP/Downloads/new.ipynb#Y131sZmlsZQ%3D%3D?line=17'>18</a>\u001b[0m \u001b[39mprint\u001b[39m(mydictionary)\n\u001b[0;32m     <a href='vscode-notebook-cell:/c%3A/Users/HP/Downloads/new.ipynb#Y131sZmlsZQ%3D%3D?line=18'>19</a>\u001b[0m \u001b[39mfor\u001b[39;00m index \u001b[39min\u001b[39;00m \u001b[39mrange\u001b[39m(\u001b[39mlen\u001b[39m(mydictionary)):\n\u001b[1;32m---> <a href='vscode-notebook-cell:/c%3A/Users/HP/Downloads/new.ipynb#Y131sZmlsZQ%3D%3D?line=19'>20</a>\u001b[0m     \u001b[39mfor\u001b[39;00m key \u001b[39min\u001b[39;00m mydictionary[index]:\n\u001b[0;32m     <a href='vscode-notebook-cell:/c%3A/Users/HP/Downloads/new.ipynb#Y131sZmlsZQ%3D%3D?line=20'>21</a>\u001b[0m         \u001b[39mprint\u001b[39m(mydictionary[index][key])\n",
      "\u001b[1;31mKeyError\u001b[0m: 0"
     ]
    }
   ],
   "source": [
    "mydictionary = { \n",
    "               \"Name\" : \"Abhi\",\n",
    "               \"Age\" : 21,\n",
    "               \"Email\" : \"abh@gmail.com\",\n",
    "\n",
    "}\n",
    "print(mydictionary)\n",
    "mydictionary[\"friends_dict\"] = {}\n",
    "mydictionary[\"Friends\"] = []\n",
    "print(mydictionary)\n",
    "\n",
    "for friend_no in range(1,6,1):\n",
    "    print(\"Enter the name of your\",friend_no,\"st number\")\n",
    "    name=input(\"name:\")\n",
    "    mydictionary[\"Friends\"].append(name)\n",
    "    mydictionary[\"friends_dict\"][\"Friends\"+str(friend_no)]=name\n",
    "    \n",
    "print(mydictionary)\n",
    "\n",
    "\n",
    "\n"
   ]
  },
  {
   "cell_type": "code",
   "execution_count": 14,
   "metadata": {},
   "outputs": [
    {
     "name": "stdout",
     "output_type": "stream",
     "text": [
      "hhjh\n",
      "fggjh\n",
      "vgghbn\n",
      "b vbbnm\n",
      "bvbvnbm\n"
     ]
    }
   ],
   "source": [
    "for item in mydictionary['Friends']:\n",
    "    print(item)\n"
   ]
  },
  {
   "cell_type": "code",
   "execution_count": 17,
   "metadata": {},
   "outputs": [
    {
     "name": "stdout",
     "output_type": "stream",
     "text": [
      "hhjh\n",
      "fggjh\n",
      "vgghbn\n",
      "b vbbnm\n",
      "bvbvnbm\n"
     ]
    }
   ],
   "source": [
    "for name in mydictionary['friends_dict'].values():\n",
    "    print(name)"
   ]
  },
  {
   "cell_type": "code",
   "execution_count": 46,
   "metadata": {},
   "outputs": [],
   "source": [
    "def storeorder(orderid,itemname,price,qty):\n",
    "    with open (\"filename.txt\",\"a\") as file:\n",
    "        file.write(\"hello\\n\")\n",
    "        file.write(orderid+\",\"+itemname+\",\"+price+\",\"+qty+\"\\n\")\n",
    "    \n"
   ]
  },
  {
   "cell_type": "code",
   "execution_count": 47,
   "metadata": {},
   "outputs": [],
   "source": [
    "for item in range(0,50):\n",
    "    storeorder(\"123\",\"dosa\",\"10.00\",\"8\")"
   ]
  },
  {
   "cell_type": "code",
   "execution_count": 1,
   "metadata": {},
   "outputs": [
    {
     "name": "stdout",
     "output_type": "stream",
     "text": [
      "[]\n",
      "['hello\\n', '123,Idli,10.00,8\\n', 'hello\\n', '123,Idli,10.00,8\\n', 'hello\\n', '123,dosa,10.00,8\\n', 'hello\\n', '123,dosa,10.00,8\\n', 'hello\\n', '123,dosa,10.00,8\\n', 'hello\\n', '123,dosa,10.00,8\\n', 'hello\\n', '123,dosa,10.00,8\\n', 'hello\\n', '123,dosa,10.00,8\\n', 'hello\\n', '123,dosa,10.00,8\\n', 'hello\\n', '123,dosa,10.00,8\\n', 'hello\\n', '123,dosa,10.00,8\\n', 'hello\\n', '123,dosa,10.00,8\\n', 'hello\\n', '123,dosa,10.00,8\\n', 'hello\\n', '123,dosa,10.00,8\\n', 'hello\\n', '123,dosa,10.00,8\\n', 'hello\\n', '123,dosa,10.00,8\\n', 'hello\\n', '123,dosa,10.00,8\\n', 'hello\\n', '123,dosa,10.00,8\\n', 'hello\\n', '123,dosa,10.00,8\\n', 'hello\\n', '123,dosa,10.00,8\\n', 'hello\\n', '123,dosa,10.00,8\\n', 'hello\\n', '123,dosa,10.00,8\\n', 'hello\\n', '123,dosa,10.00,8\\n', 'hello\\n', '123,dosa,10.00,8\\n', 'hello\\n', '123,dosa,10.00,8\\n', 'hello\\n', '123,dosa,10.00,8\\n', 'hello\\n', '123,dosa,10.00,8\\n', 'hello\\n', '123,dosa,10.00,8\\n', 'hello\\n', '123,dosa,10.00,8\\n', 'hello\\n', '123,dosa,10.00,8\\n', 'hello\\n', '123,dosa,10.00,8\\n', 'hello\\n', '123,dosa,10.00,8\\n', 'hello\\n', '123,dosa,10.00,8\\n', 'hello\\n', '123,dosa,10.00,8\\n', 'hello\\n', '123,dosa,10.00,8\\n', 'hello\\n', '123,dosa,10.00,8\\n', 'hello\\n', '123,dosa,10.00,8\\n', 'hello\\n', '123,dosa,10.00,8\\n', 'hello\\n', '123,dosa,10.00,8\\n', 'hello\\n', '123,dosa,10.00,8\\n', 'hello\\n', '123,dosa,10.00,8\\n', 'hello\\n', '123,dosa,10.00,8\\n', 'hello\\n', '123,dosa,10.00,8\\n', 'hello\\n', '123,dosa,10.00,8\\n', 'hello\\n', '123,dosa,10.00,8\\n', 'hello\\n', '123,dosa,10.00,8\\n', 'hello\\n', '123,dosa,10.00,8\\n', 'hello\\n', '123,dosa,10.00,8\\n', 'hello\\n', '123,dosa,10.00,8\\n', 'hello\\n', '123,dosa,10.00,8\\n', 'hello\\n', '123,dosa,10.00,8\\n', 'hello\\n', '123,dosa,10.00,8\\n', 'hello\\n', '123,dosa,10.00,8\\n']\n"
     ]
    }
   ],
   "source": [
    "filecontent = []\n",
    "with open (\"filename.txt\",\"r\") as file:\n",
    "    filecontent=file.readlines()\n",
    "    print(file.readlines())\n",
    "print(filecontent)\n",
    "\n",
    "    \n"
   ]
  },
  {
   "cell_type": "code",
   "execution_count": 45,
   "metadata": {},
   "outputs": [
    {
     "name": "stdout",
     "output_type": "stream",
     "text": [
      "hello\n",
      "123,Idli,10.00,8\n",
      "hello\n",
      "123,Idli,10.00,8\n",
      "hello\n",
      "123,dosa,10.00,8\n"
     ]
    }
   ],
   "source": [
    "for line in filecontent :\n",
    "    print(line.strip())"
   ]
  },
  {
   "cell_type": "code",
   "execution_count": 61,
   "metadata": {},
   "outputs": [],
   "source": [
    "class students:\n",
    "    def __init__(self):\n",
    "        self.student = []\n",
    "\n",
    "    def addStudent(self,name,regno):\n",
    "        self.student.append( {\n",
    "            \"Name\":name,\n",
    "            \"Regno\": regno\n",
    "\n",
    "        })\n",
    "    def listAllStudents(self):\n",
    "        print(self.student)\n",
    "    def searchStudent(self,name):\n",
    "        pass\n",
    "    def removeStudent(self,name):\n",
    "        pass\n",
    "    def __str__(self):\n",
    "        pass\n"
   ]
  },
  {
   "cell_type": "code",
   "execution_count": 52,
   "metadata": {},
   "outputs": [],
   "source": [
    "mscdsa=students()\n"
   ]
  },
  {
   "cell_type": "code",
   "execution_count": 54,
   "metadata": {},
   "outputs": [],
   "source": [
    "mscdsa.addStudent(\"Abhi\",\"2002\")"
   ]
  },
  {
   "cell_type": "code",
   "execution_count": null,
   "metadata": {},
   "outputs": [],
   "source": [
    "mscdsa.listAllStudents()"
   ]
  },
  {
   "cell_type": "code",
   "execution_count": 56,
   "metadata": {},
   "outputs": [],
   "source": [
    "temp = [{\"Name\":\"Abhi\",\"Regno\":'1001'},{'Name':'Asil','RegNo':'1002'}]"
   ]
  },
  {
   "cell_type": "code",
   "execution_count": 57,
   "metadata": {},
   "outputs": [
    {
     "data": {
      "text/plain": [
       "[{'Name': 'Abhi', 'Regno': '1001'}, {'Name': 'Asil', 'RegNo': '1002'}]"
      ]
     },
     "execution_count": 57,
     "metadata": {},
     "output_type": "execute_result"
    }
   ],
   "source": [
    "temp"
   ]
  },
  {
   "cell_type": "code",
   "execution_count": 1,
   "metadata": {},
   "outputs": [],
   "source": [
    "import numpy"
   ]
  },
  {
   "cell_type": "code",
   "execution_count": 2,
   "metadata": {},
   "outputs": [
    {
     "name": "stdout",
     "output_type": "stream",
     "text": [
      "[1 2 3 4 5]\n"
     ]
    }
   ],
   "source": [
    "import numpy\n",
    "\n",
    "arr = numpy.array([1, 2, 3, 4, 5])\n",
    "\n",
    "print(arr)"
   ]
  },
  {
   "cell_type": "code",
   "execution_count": 2,
   "metadata": {},
   "outputs": [
    {
     "name": "stdout",
     "output_type": "stream",
     "text": [
      "['Honda', 'Toyato', 'Benz', 'BMW']\n"
     ]
    }
   ],
   "source": [
    "motorcycles=['Honda','Toyato','Benz']\n",
    "motorcycles.append('BMW')\n",
    "print(motorcycles)"
   ]
  },
  {
   "cell_type": "code",
   "execution_count": 6,
   "metadata": {},
   "outputs": [
    {
     "name": "stdout",
     "output_type": "stream",
     "text": [
      "['Jaguar', 'Ferrari', 'Audi']\n"
     ]
    }
   ],
   "source": [
    "cars=['Jaguar','Ferrari','Audi']\n",
    "cars.sort(reverse=True)\n",
    "print(cars)"
   ]
  },
  {
   "cell_type": "code",
   "execution_count": 8,
   "metadata": {},
   "outputs": [
    {
     "name": "stdout",
     "output_type": "stream",
     "text": [
      "Harley\n",
      "Bullet\n",
      "Ducati\n"
     ]
    }
   ],
   "source": [
    "bike=['Harley','Bullet','Ducati']\n",
    "for i in bike:\n",
    "    print(i)"
   ]
  },
  {
   "cell_type": "code",
   "execution_count": 11,
   "metadata": {},
   "outputs": [
    {
     "name": "stdout",
     "output_type": "stream",
     "text": [
      "[1, 2, 3, 4, 5]\n",
      "[2, 4, 6, 8, 10, 12, 14, 16, 18, 20]\n"
     ]
    }
   ],
   "source": [
    "numbers=list(range(1,6))\n",
    "print(numbers)\n",
    "even=list(range(2,22,2))\n",
    "print(even)"
   ]
  },
  {
   "cell_type": "code",
   "execution_count": 19,
   "metadata": {},
   "outputs": [
    {
     "name": "stdout",
     "output_type": "stream",
     "text": [
      "[1, 4, 9, 16, 25, 36, 49, 64, 81]\n",
      "[0, 3, 6, 9, 12, 15, 18, 21, 24, 27, 30, 33, 36, 39, 42, 45, 48, 51, 54, 57]\n"
     ]
    }
   ],
   "source": [
    "squares=[]\n",
    "for i in range(1,10):\n",
    "    square=i**2\n",
    "    squares.append(square)\n",
    "print(squares)\n",
    "sum=[s*3 for  s in range(0,20)]\n",
    "print(sum)\n",
    "\n"
   ]
  },
  {
   "cell_type": "code",
   "execution_count": 1,
   "metadata": {},
   "outputs": [
    {
     "name": "stdout",
     "output_type": "stream",
     "text": [
      "Requirement already satisfied: pandas in c:\\users\\hp\\appdata\\local\\programs\\python\\python311\\lib\\site-packages (2.1.0)\n",
      "Requirement already satisfied: numpy>=1.23.2 in c:\\users\\hp\\appdata\\local\\programs\\python\\python311\\lib\\site-packages (from pandas) (1.25.2)\n",
      "Requirement already satisfied: python-dateutil>=2.8.2 in c:\\users\\hp\\appdata\\roaming\\python\\python311\\site-packages (from pandas) (2.8.2)\n",
      "Requirement already satisfied: pytz>=2020.1 in c:\\users\\hp\\appdata\\local\\programs\\python\\python311\\lib\\site-packages (from pandas) (2023.3.post1)\n",
      "Requirement already satisfied: tzdata>=2022.1 in c:\\users\\hp\\appdata\\local\\programs\\python\\python311\\lib\\site-packages (from pandas) (2023.3)\n",
      "Requirement already satisfied: six>=1.5 in c:\\users\\hp\\appdata\\roaming\\python\\python311\\site-packages (from python-dateutil>=2.8.2->pandas) (1.16.0)\n",
      "Note: you may need to restart the kernel to use updated packages.\n"
     ]
    }
   ],
   "source": [
    "pip install pandas"
   ]
  },
  {
   "cell_type": "code",
   "execution_count": 2,
   "metadata": {},
   "outputs": [],
   "source": [
    "import pandas as pd"
   ]
  },
  {
   "cell_type": "code",
   "execution_count": 5,
   "metadata": {},
   "outputs": [],
   "source": [
    "students = {\n",
    "    \"Name\":['Abhi','John','Britto','Anand'],\n",
    "    \"Age\":[22,23,18,19]\n",
    "}"
   ]
  },
  {
   "cell_type": "code",
   "execution_count": 6,
   "metadata": {},
   "outputs": [],
   "source": [
    "df=pd.DataFrame(students)"
   ]
  },
  {
   "cell_type": "code",
   "execution_count": 10,
   "metadata": {},
   "outputs": [
    {
     "data": {
      "text/html": [
       "<div>\n",
       "<style scoped>\n",
       "    .dataframe tbody tr th:only-of-type {\n",
       "        vertical-align: middle;\n",
       "    }\n",
       "\n",
       "    .dataframe tbody tr th {\n",
       "        vertical-align: top;\n",
       "    }\n",
       "\n",
       "    .dataframe thead th {\n",
       "        text-align: right;\n",
       "    }\n",
       "</style>\n",
       "<table border=\"1\" class=\"dataframe\">\n",
       "  <thead>\n",
       "    <tr style=\"text-align: right;\">\n",
       "      <th></th>\n",
       "      <th>Name</th>\n",
       "      <th>Age</th>\n",
       "    </tr>\n",
       "  </thead>\n",
       "  <tbody>\n",
       "    <tr>\n",
       "      <th>0</th>\n",
       "      <td>Abhi</td>\n",
       "      <td>22</td>\n",
       "    </tr>\n",
       "    <tr>\n",
       "      <th>1</th>\n",
       "      <td>John</td>\n",
       "      <td>23</td>\n",
       "    </tr>\n",
       "    <tr>\n",
       "      <th>2</th>\n",
       "      <td>Britto</td>\n",
       "      <td>18</td>\n",
       "    </tr>\n",
       "    <tr>\n",
       "      <th>3</th>\n",
       "      <td>Anand</td>\n",
       "      <td>19</td>\n",
       "    </tr>\n",
       "  </tbody>\n",
       "</table>\n",
       "</div>"
      ],
      "text/plain": [
       "     Name  Age\n",
       "0    Abhi   22\n",
       "1    John   23\n",
       "2  Britto   18\n",
       "3   Anand   19"
      ]
     },
     "execution_count": 10,
     "metadata": {},
     "output_type": "execute_result"
    }
   ],
   "source": [
    "df.head()"
   ]
  },
  {
   "cell_type": "code",
   "execution_count": 14,
   "metadata": {},
   "outputs": [
    {
     "data": {
      "text/html": [
       "<div>\n",
       "<style scoped>\n",
       "    .dataframe tbody tr th:only-of-type {\n",
       "        vertical-align: middle;\n",
       "    }\n",
       "\n",
       "    .dataframe tbody tr th {\n",
       "        vertical-align: top;\n",
       "    }\n",
       "\n",
       "    .dataframe thead th {\n",
       "        text-align: right;\n",
       "    }\n",
       "</style>\n",
       "<table border=\"1\" class=\"dataframe\">\n",
       "  <thead>\n",
       "    <tr style=\"text-align: right;\">\n",
       "      <th></th>\n",
       "      <th>Name</th>\n",
       "      <th>Age</th>\n",
       "    </tr>\n",
       "  </thead>\n",
       "  <tbody>\n",
       "    <tr>\n",
       "      <th>0</th>\n",
       "      <td>Abhi</td>\n",
       "      <td>22</td>\n",
       "    </tr>\n",
       "    <tr>\n",
       "      <th>1</th>\n",
       "      <td>John</td>\n",
       "      <td>23</td>\n",
       "    </tr>\n",
       "    <tr>\n",
       "      <th>2</th>\n",
       "      <td>Britto</td>\n",
       "      <td>18</td>\n",
       "    </tr>\n",
       "    <tr>\n",
       "      <th>3</th>\n",
       "      <td>Anand</td>\n",
       "      <td>19</td>\n",
       "    </tr>\n",
       "  </tbody>\n",
       "</table>\n",
       "</div>"
      ],
      "text/plain": [
       "     Name  Age\n",
       "0    Abhi   22\n",
       "1    John   23\n",
       "2  Britto   18\n",
       "3   Anand   19"
      ]
     },
     "execution_count": 14,
     "metadata": {},
     "output_type": "execute_result"
    }
   ],
   "source": [
    "df.tail()"
   ]
  },
  {
   "cell_type": "code",
   "execution_count": 26,
   "metadata": {},
   "outputs": [],
   "source": [
    "df=pd.read_csv(\"Data.csv\",delimiter=\" \")"
   ]
  },
  {
   "cell_type": "code",
   "execution_count": 27,
   "metadata": {},
   "outputs": [
    {
     "data": {
      "text/html": [
       "<div>\n",
       "<style scoped>\n",
       "    .dataframe tbody tr th:only-of-type {\n",
       "        vertical-align: middle;\n",
       "    }\n",
       "\n",
       "    .dataframe tbody tr th {\n",
       "        vertical-align: top;\n",
       "    }\n",
       "\n",
       "    .dataframe thead th {\n",
       "        text-align: right;\n",
       "    }\n",
       "</style>\n",
       "<table border=\"1\" class=\"dataframe\">\n",
       "  <thead>\n",
       "    <tr style=\"text-align: right;\">\n",
       "      <th></th>\n",
       "      <th>40</th>\n",
       "      <th>1</th>\n",
       "      <th>2</th>\n",
       "      <th>140</th>\n",
       "      <th>289</th>\n",
       "      <th>0</th>\n",
       "      <th>0.1</th>\n",
       "      <th>172</th>\n",
       "      <th>0.2</th>\n",
       "      <th>0.3</th>\n",
       "      <th>-9</th>\n",
       "      <th>-9.1</th>\n",
       "      <th>-9.2</th>\n",
       "      <th>0.4</th>\n",
       "    </tr>\n",
       "  </thead>\n",
       "  <tbody>\n",
       "    <tr>\n",
       "      <th>0</th>\n",
       "      <td>49.0</td>\n",
       "      <td>0.0</td>\n",
       "      <td>3.0</td>\n",
       "      <td>160.0</td>\n",
       "      <td>180.0</td>\n",
       "      <td>0.0</td>\n",
       "      <td>0.0</td>\n",
       "      <td>156.0</td>\n",
       "      <td>0.0</td>\n",
       "      <td>1.0</td>\n",
       "      <td>2.0</td>\n",
       "      <td>-9.0</td>\n",
       "      <td>-9.0</td>\n",
       "      <td>1.0</td>\n",
       "    </tr>\n",
       "    <tr>\n",
       "      <th>1</th>\n",
       "      <td>37.0</td>\n",
       "      <td>1.0</td>\n",
       "      <td>2.0</td>\n",
       "      <td>130.0</td>\n",
       "      <td>283.0</td>\n",
       "      <td>0.0</td>\n",
       "      <td>1.0</td>\n",
       "      <td>98.0</td>\n",
       "      <td>0.0</td>\n",
       "      <td>0.0</td>\n",
       "      <td>-9.0</td>\n",
       "      <td>-9.0</td>\n",
       "      <td>-9.0</td>\n",
       "      <td>0.0</td>\n",
       "    </tr>\n",
       "    <tr>\n",
       "      <th>2</th>\n",
       "      <td>48.0</td>\n",
       "      <td>0.0</td>\n",
       "      <td>4.0</td>\n",
       "      <td>138.0</td>\n",
       "      <td>214.0</td>\n",
       "      <td>0.0</td>\n",
       "      <td>0.0</td>\n",
       "      <td>108.0</td>\n",
       "      <td>1.0</td>\n",
       "      <td>1.5</td>\n",
       "      <td>2.0</td>\n",
       "      <td>-9.0</td>\n",
       "      <td>-9.0</td>\n",
       "      <td>3.0</td>\n",
       "    </tr>\n",
       "    <tr>\n",
       "      <th>3</th>\n",
       "      <td>54.0</td>\n",
       "      <td>1.0</td>\n",
       "      <td>3.0</td>\n",
       "      <td>150.0</td>\n",
       "      <td>-9.0</td>\n",
       "      <td>0.0</td>\n",
       "      <td>0.0</td>\n",
       "      <td>122.0</td>\n",
       "      <td>0.0</td>\n",
       "      <td>0.0</td>\n",
       "      <td>-9.0</td>\n",
       "      <td>-9.0</td>\n",
       "      <td>-9.0</td>\n",
       "      <td>0.0</td>\n",
       "    </tr>\n",
       "    <tr>\n",
       "      <th>4</th>\n",
       "      <td>39.0</td>\n",
       "      <td>1.0</td>\n",
       "      <td>3.0</td>\n",
       "      <td>120.0</td>\n",
       "      <td>339.0</td>\n",
       "      <td>0.0</td>\n",
       "      <td>0.0</td>\n",
       "      <td>170.0</td>\n",
       "      <td>0.0</td>\n",
       "      <td>0.0</td>\n",
       "      <td>-9.0</td>\n",
       "      <td>-9.0</td>\n",
       "      <td>-9.0</td>\n",
       "      <td>0.0</td>\n",
       "    </tr>\n",
       "    <tr>\n",
       "      <th>...</th>\n",
       "      <td>...</td>\n",
       "      <td>...</td>\n",
       "      <td>...</td>\n",
       "      <td>...</td>\n",
       "      <td>...</td>\n",
       "      <td>...</td>\n",
       "      <td>...</td>\n",
       "      <td>...</td>\n",
       "      <td>...</td>\n",
       "      <td>...</td>\n",
       "      <td>...</td>\n",
       "      <td>...</td>\n",
       "      <td>...</td>\n",
       "      <td>...</td>\n",
       "    </tr>\n",
       "    <tr>\n",
       "      <th>289</th>\n",
       "      <td>36.0</td>\n",
       "      <td>1.0</td>\n",
       "      <td>2.0</td>\n",
       "      <td>120.0</td>\n",
       "      <td>166.0</td>\n",
       "      <td>0.0</td>\n",
       "      <td>0.0</td>\n",
       "      <td>180.0</td>\n",
       "      <td>0.0</td>\n",
       "      <td>0.0</td>\n",
       "      <td>-9.0</td>\n",
       "      <td>-9.0</td>\n",
       "      <td>-9.0</td>\n",
       "      <td>0.0</td>\n",
       "    </tr>\n",
       "    <tr>\n",
       "      <th>290</th>\n",
       "      <td>48.0</td>\n",
       "      <td>1.0</td>\n",
       "      <td>3.0</td>\n",
       "      <td>110.0</td>\n",
       "      <td>211.0</td>\n",
       "      <td>0.0</td>\n",
       "      <td>0.0</td>\n",
       "      <td>138.0</td>\n",
       "      <td>0.0</td>\n",
       "      <td>0.0</td>\n",
       "      <td>-9.0</td>\n",
       "      <td>-9.0</td>\n",
       "      <td>6.0</td>\n",
       "      <td>0.0</td>\n",
       "    </tr>\n",
       "    <tr>\n",
       "      <th>291</th>\n",
       "      <td>47.0</td>\n",
       "      <td>0.0</td>\n",
       "      <td>2.0</td>\n",
       "      <td>140.0</td>\n",
       "      <td>257.0</td>\n",
       "      <td>0.0</td>\n",
       "      <td>0.0</td>\n",
       "      <td>135.0</td>\n",
       "      <td>0.0</td>\n",
       "      <td>1.0</td>\n",
       "      <td>1.0</td>\n",
       "      <td>-9.0</td>\n",
       "      <td>-9.0</td>\n",
       "      <td>0.0</td>\n",
       "    </tr>\n",
       "    <tr>\n",
       "      <th>292</th>\n",
       "      <td>53.0</td>\n",
       "      <td>1.0</td>\n",
       "      <td>4.0</td>\n",
       "      <td>130.0</td>\n",
       "      <td>182.0</td>\n",
       "      <td>0.0</td>\n",
       "      <td>0.0</td>\n",
       "      <td>148.0</td>\n",
       "      <td>0.0</td>\n",
       "      <td>0.0</td>\n",
       "      <td>-9.0</td>\n",
       "      <td>-9.0</td>\n",
       "      <td>-9.0</td>\n",
       "      <td>0.0</td>\n",
       "    </tr>\n",
       "    <tr>\n",
       "      <th>293</th>\n",
       "      <td>NaN</td>\n",
       "      <td>NaN</td>\n",
       "      <td>NaN</td>\n",
       "      <td>NaN</td>\n",
       "      <td>NaN</td>\n",
       "      <td>NaN</td>\n",
       "      <td>NaN</td>\n",
       "      <td>NaN</td>\n",
       "      <td>NaN</td>\n",
       "      <td>NaN</td>\n",
       "      <td>NaN</td>\n",
       "      <td>NaN</td>\n",
       "      <td>NaN</td>\n",
       "      <td>NaN</td>\n",
       "    </tr>\n",
       "  </tbody>\n",
       "</table>\n",
       "<p>294 rows × 14 columns</p>\n",
       "</div>"
      ],
      "text/plain": [
       "       40    1    2    140    289    0  0.1    172  0.2  0.3   -9  -9.1  -9.2  \\\n",
       "0    49.0  0.0  3.0  160.0  180.0  0.0  0.0  156.0  0.0  1.0  2.0  -9.0  -9.0   \n",
       "1    37.0  1.0  2.0  130.0  283.0  0.0  1.0   98.0  0.0  0.0 -9.0  -9.0  -9.0   \n",
       "2    48.0  0.0  4.0  138.0  214.0  0.0  0.0  108.0  1.0  1.5  2.0  -9.0  -9.0   \n",
       "3    54.0  1.0  3.0  150.0   -9.0  0.0  0.0  122.0  0.0  0.0 -9.0  -9.0  -9.0   \n",
       "4    39.0  1.0  3.0  120.0  339.0  0.0  0.0  170.0  0.0  0.0 -9.0  -9.0  -9.0   \n",
       "..    ...  ...  ...    ...    ...  ...  ...    ...  ...  ...  ...   ...   ...   \n",
       "289  36.0  1.0  2.0  120.0  166.0  0.0  0.0  180.0  0.0  0.0 -9.0  -9.0  -9.0   \n",
       "290  48.0  1.0  3.0  110.0  211.0  0.0  0.0  138.0  0.0  0.0 -9.0  -9.0   6.0   \n",
       "291  47.0  0.0  2.0  140.0  257.0  0.0  0.0  135.0  0.0  1.0  1.0  -9.0  -9.0   \n",
       "292  53.0  1.0  4.0  130.0  182.0  0.0  0.0  148.0  0.0  0.0 -9.0  -9.0  -9.0   \n",
       "293   NaN  NaN  NaN    NaN    NaN  NaN  NaN    NaN  NaN  NaN  NaN   NaN   NaN   \n",
       "\n",
       "     0.4  \n",
       "0    1.0  \n",
       "1    0.0  \n",
       "2    3.0  \n",
       "3    0.0  \n",
       "4    0.0  \n",
       "..   ...  \n",
       "289  0.0  \n",
       "290  0.0  \n",
       "291  0.0  \n",
       "292  0.0  \n",
       "293  NaN  \n",
       "\n",
       "[294 rows x 14 columns]"
      ]
     },
     "execution_count": 27,
     "metadata": {},
     "output_type": "execute_result"
    }
   ],
   "source": [
    "df"
   ]
  },
  {
   "cell_type": "code",
   "execution_count": 28,
   "metadata": {},
   "outputs": [
    {
     "data": {
      "text/plain": [
       "Index(['40', '1', '2', '140', '289', '0', '0.1', '172', '0.2', '0.3', '-9',\n",
       "       '-9.1', '-9.2', '0.4'],\n",
       "      dtype='object')"
      ]
     },
     "execution_count": 28,
     "metadata": {},
     "output_type": "execute_result"
    }
   ],
   "source": [
    "df.columns"
   ]
  },
  {
   "cell_type": "code",
   "execution_count": 29,
   "metadata": {},
   "outputs": [
    {
     "data": {
      "text/html": [
       "<div>\n",
       "<style scoped>\n",
       "    .dataframe tbody tr th:only-of-type {\n",
       "        vertical-align: middle;\n",
       "    }\n",
       "\n",
       "    .dataframe tbody tr th {\n",
       "        vertical-align: top;\n",
       "    }\n",
       "\n",
       "    .dataframe thead th {\n",
       "        text-align: right;\n",
       "    }\n",
       "</style>\n",
       "<table border=\"1\" class=\"dataframe\">\n",
       "  <thead>\n",
       "    <tr style=\"text-align: right;\">\n",
       "      <th></th>\n",
       "      <th>40</th>\n",
       "      <th>1</th>\n",
       "      <th>2</th>\n",
       "      <th>140</th>\n",
       "      <th>289</th>\n",
       "      <th>0</th>\n",
       "      <th>0.1</th>\n",
       "      <th>172</th>\n",
       "      <th>0.2</th>\n",
       "      <th>0.3</th>\n",
       "      <th>-9</th>\n",
       "      <th>-9.1</th>\n",
       "      <th>-9.2</th>\n",
       "      <th>0.4</th>\n",
       "    </tr>\n",
       "  </thead>\n",
       "  <tbody>\n",
       "    <tr>\n",
       "      <th>count</th>\n",
       "      <td>293.000000</td>\n",
       "      <td>293.000000</td>\n",
       "      <td>293.000000</td>\n",
       "      <td>293.000000</td>\n",
       "      <td>293.000000</td>\n",
       "      <td>293.000000</td>\n",
       "      <td>293.000000</td>\n",
       "      <td>293.000000</td>\n",
       "      <td>293.000000</td>\n",
       "      <td>293.000000</td>\n",
       "      <td>293.000000</td>\n",
       "      <td>293.000000</td>\n",
       "      <td>293.000000</td>\n",
       "      <td>293.000000</td>\n",
       "    </tr>\n",
       "    <tr>\n",
       "      <th>mean</th>\n",
       "      <td>47.853242</td>\n",
       "      <td>0.723549</td>\n",
       "      <td>2.986348</td>\n",
       "      <td>132.075085</td>\n",
       "      <td>230.320819</td>\n",
       "      <td>-0.177474</td>\n",
       "      <td>0.187713</td>\n",
       "      <td>138.511945</td>\n",
       "      <td>0.273038</td>\n",
       "      <td>0.588055</td>\n",
       "      <td>-5.133106</td>\n",
       "      <td>-8.846416</td>\n",
       "      <td>-7.600683</td>\n",
       "      <td>0.795222</td>\n",
       "    </tr>\n",
       "    <tr>\n",
       "      <th>std</th>\n",
       "      <td>7.811716</td>\n",
       "      <td>0.448007</td>\n",
       "      <td>0.965049</td>\n",
       "      <td>19.465314</td>\n",
       "      <td>95.516079</td>\n",
       "      <td>1.502021</td>\n",
       "      <td>0.708741</td>\n",
       "      <td>25.050716</td>\n",
       "      <td>0.712311</td>\n",
       "      <td>0.909554</td>\n",
       "      <td>5.225664</td>\n",
       "      <td>1.384959</td>\n",
       "      <td>4.340112</td>\n",
       "      <td>1.238251</td>\n",
       "    </tr>\n",
       "    <tr>\n",
       "      <th>min</th>\n",
       "      <td>28.000000</td>\n",
       "      <td>0.000000</td>\n",
       "      <td>1.000000</td>\n",
       "      <td>-9.000000</td>\n",
       "      <td>-9.000000</td>\n",
       "      <td>-9.000000</td>\n",
       "      <td>-9.000000</td>\n",
       "      <td>-9.000000</td>\n",
       "      <td>-9.000000</td>\n",
       "      <td>0.000000</td>\n",
       "      <td>-9.000000</td>\n",
       "      <td>-9.000000</td>\n",
       "      <td>-9.000000</td>\n",
       "      <td>0.000000</td>\n",
       "    </tr>\n",
       "    <tr>\n",
       "      <th>25%</th>\n",
       "      <td>42.000000</td>\n",
       "      <td>0.000000</td>\n",
       "      <td>2.000000</td>\n",
       "      <td>120.000000</td>\n",
       "      <td>198.000000</td>\n",
       "      <td>0.000000</td>\n",
       "      <td>0.000000</td>\n",
       "      <td>122.000000</td>\n",
       "      <td>0.000000</td>\n",
       "      <td>0.000000</td>\n",
       "      <td>-9.000000</td>\n",
       "      <td>-9.000000</td>\n",
       "      <td>-9.000000</td>\n",
       "      <td>0.000000</td>\n",
       "    </tr>\n",
       "    <tr>\n",
       "      <th>50%</th>\n",
       "      <td>49.000000</td>\n",
       "      <td>1.000000</td>\n",
       "      <td>3.000000</td>\n",
       "      <td>130.000000</td>\n",
       "      <td>237.000000</td>\n",
       "      <td>0.000000</td>\n",
       "      <td>0.000000</td>\n",
       "      <td>140.000000</td>\n",
       "      <td>0.000000</td>\n",
       "      <td>0.000000</td>\n",
       "      <td>-9.000000</td>\n",
       "      <td>-9.000000</td>\n",
       "      <td>-9.000000</td>\n",
       "      <td>0.000000</td>\n",
       "    </tr>\n",
       "    <tr>\n",
       "      <th>75%</th>\n",
       "      <td>54.000000</td>\n",
       "      <td>1.000000</td>\n",
       "      <td>4.000000</td>\n",
       "      <td>140.000000</td>\n",
       "      <td>277.000000</td>\n",
       "      <td>0.000000</td>\n",
       "      <td>0.000000</td>\n",
       "      <td>155.000000</td>\n",
       "      <td>1.000000</td>\n",
       "      <td>1.000000</td>\n",
       "      <td>2.000000</td>\n",
       "      <td>-9.000000</td>\n",
       "      <td>-9.000000</td>\n",
       "      <td>1.000000</td>\n",
       "    </tr>\n",
       "    <tr>\n",
       "      <th>max</th>\n",
       "      <td>66.000000</td>\n",
       "      <td>1.000000</td>\n",
       "      <td>4.000000</td>\n",
       "      <td>200.000000</td>\n",
       "      <td>603.000000</td>\n",
       "      <td>1.000000</td>\n",
       "      <td>2.000000</td>\n",
       "      <td>190.000000</td>\n",
       "      <td>1.000000</td>\n",
       "      <td>5.000000</td>\n",
       "      <td>3.000000</td>\n",
       "      <td>9.000000</td>\n",
       "      <td>7.000000</td>\n",
       "      <td>4.000000</td>\n",
       "    </tr>\n",
       "  </tbody>\n",
       "</table>\n",
       "</div>"
      ],
      "text/plain": [
       "               40           1           2         140         289           0  \\\n",
       "count  293.000000  293.000000  293.000000  293.000000  293.000000  293.000000   \n",
       "mean    47.853242    0.723549    2.986348  132.075085  230.320819   -0.177474   \n",
       "std      7.811716    0.448007    0.965049   19.465314   95.516079    1.502021   \n",
       "min     28.000000    0.000000    1.000000   -9.000000   -9.000000   -9.000000   \n",
       "25%     42.000000    0.000000    2.000000  120.000000  198.000000    0.000000   \n",
       "50%     49.000000    1.000000    3.000000  130.000000  237.000000    0.000000   \n",
       "75%     54.000000    1.000000    4.000000  140.000000  277.000000    0.000000   \n",
       "max     66.000000    1.000000    4.000000  200.000000  603.000000    1.000000   \n",
       "\n",
       "              0.1         172         0.2         0.3          -9        -9.1  \\\n",
       "count  293.000000  293.000000  293.000000  293.000000  293.000000  293.000000   \n",
       "mean     0.187713  138.511945    0.273038    0.588055   -5.133106   -8.846416   \n",
       "std      0.708741   25.050716    0.712311    0.909554    5.225664    1.384959   \n",
       "min     -9.000000   -9.000000   -9.000000    0.000000   -9.000000   -9.000000   \n",
       "25%      0.000000  122.000000    0.000000    0.000000   -9.000000   -9.000000   \n",
       "50%      0.000000  140.000000    0.000000    0.000000   -9.000000   -9.000000   \n",
       "75%      0.000000  155.000000    1.000000    1.000000    2.000000   -9.000000   \n",
       "max      2.000000  190.000000    1.000000    5.000000    3.000000    9.000000   \n",
       "\n",
       "             -9.2         0.4  \n",
       "count  293.000000  293.000000  \n",
       "mean    -7.600683    0.795222  \n",
       "std      4.340112    1.238251  \n",
       "min     -9.000000    0.000000  \n",
       "25%     -9.000000    0.000000  \n",
       "50%     -9.000000    0.000000  \n",
       "75%     -9.000000    1.000000  \n",
       "max      7.000000    4.000000  "
      ]
     },
     "execution_count": 29,
     "metadata": {},
     "output_type": "execute_result"
    }
   ],
   "source": [
    "df.describe()"
   ]
  },
  {
   "cell_type": "code",
   "execution_count": 33,
   "metadata": {},
   "outputs": [
    {
     "data": {
      "text/html": [
       "<div>\n",
       "<style scoped>\n",
       "    .dataframe tbody tr th:only-of-type {\n",
       "        vertical-align: middle;\n",
       "    }\n",
       "\n",
       "    .dataframe tbody tr th {\n",
       "        vertical-align: top;\n",
       "    }\n",
       "\n",
       "    .dataframe thead th {\n",
       "        text-align: right;\n",
       "    }\n",
       "</style>\n",
       "<table border=\"1\" class=\"dataframe\">\n",
       "  <thead>\n",
       "    <tr style=\"text-align: right;\">\n",
       "      <th></th>\n",
       "      <th>40</th>\n",
       "      <th>140</th>\n",
       "    </tr>\n",
       "  </thead>\n",
       "  <tbody>\n",
       "    <tr>\n",
       "      <th>0</th>\n",
       "      <td>49.0</td>\n",
       "      <td>160.0</td>\n",
       "    </tr>\n",
       "    <tr>\n",
       "      <th>1</th>\n",
       "      <td>37.0</td>\n",
       "      <td>130.0</td>\n",
       "    </tr>\n",
       "    <tr>\n",
       "      <th>2</th>\n",
       "      <td>48.0</td>\n",
       "      <td>138.0</td>\n",
       "    </tr>\n",
       "    <tr>\n",
       "      <th>3</th>\n",
       "      <td>54.0</td>\n",
       "      <td>150.0</td>\n",
       "    </tr>\n",
       "    <tr>\n",
       "      <th>4</th>\n",
       "      <td>39.0</td>\n",
       "      <td>120.0</td>\n",
       "    </tr>\n",
       "    <tr>\n",
       "      <th>...</th>\n",
       "      <td>...</td>\n",
       "      <td>...</td>\n",
       "    </tr>\n",
       "    <tr>\n",
       "      <th>289</th>\n",
       "      <td>36.0</td>\n",
       "      <td>120.0</td>\n",
       "    </tr>\n",
       "    <tr>\n",
       "      <th>290</th>\n",
       "      <td>48.0</td>\n",
       "      <td>110.0</td>\n",
       "    </tr>\n",
       "    <tr>\n",
       "      <th>291</th>\n",
       "      <td>47.0</td>\n",
       "      <td>140.0</td>\n",
       "    </tr>\n",
       "    <tr>\n",
       "      <th>292</th>\n",
       "      <td>53.0</td>\n",
       "      <td>130.0</td>\n",
       "    </tr>\n",
       "    <tr>\n",
       "      <th>293</th>\n",
       "      <td>NaN</td>\n",
       "      <td>NaN</td>\n",
       "    </tr>\n",
       "  </tbody>\n",
       "</table>\n",
       "<p>294 rows × 2 columns</p>\n",
       "</div>"
      ],
      "text/plain": [
       "       40    140\n",
       "0    49.0  160.0\n",
       "1    37.0  130.0\n",
       "2    48.0  138.0\n",
       "3    54.0  150.0\n",
       "4    39.0  120.0\n",
       "..    ...    ...\n",
       "289  36.0  120.0\n",
       "290  48.0  110.0\n",
       "291  47.0  140.0\n",
       "292  53.0  130.0\n",
       "293   NaN    NaN\n",
       "\n",
       "[294 rows x 2 columns]"
      ]
     },
     "execution_count": 33,
     "metadata": {},
     "output_type": "execute_result"
    }
   ],
   "source": [
    "df[['40','140']]"
   ]
  },
  {
   "cell_type": "code",
   "execution_count": 38,
   "metadata": {},
   "outputs": [
    {
     "data": {
      "text/plain": [
       "<Axes: >"
      ]
     },
     "execution_count": 38,
     "metadata": {},
     "output_type": "execute_result"
    },
    {
     "data": {
      "image/png": "[encoded data removed]",
      "text/plain": [
       "<Figure size 640x480 with 1 Axes>"
      ]
     },
     "metadata": {},
     "output_type": "display_data"
    }
   ],
   "source": [
    "df[\"40\"].hist()"
   ]
  },
  {
   "cell_type": "markdown",
   "metadata": {},
   "source": [
    "Create a class pandas_Name that will help you to read a csv file and print the top/bottom n rows in the file"
   ]
  },
  {
   "cell_type": "code",
   "execution_count": 2,
   "metadata": {},
   "outputs": [
    {
     "name": "stdout",
     "output_type": "stream",
     "text": [
      "['40 1 2 140 289 0 0 172 0 0 -9 -9 -9 0\\n', '49 0 3 160 180 0 0 156 0 1 2 -9 -9 1\\n']\n",
      "['40 1 2 140 289 0 0 172 0 0 -9 -9 -9 0\\n', '49 0 3 160 180 0 0 156 0 1 2 -9 -9 1\\n']\n"
     ]
    }
   ],
   "source": [
    "#1\n",
    "class pandas_naveen:\n",
    "    def __init__(self , filename):\n",
    "        self.filename = filename\n",
    "\n",
    "    def read_csv(self , filename):\n",
    "        with open(filename , \"r+\")as file:\n",
    "            self.filecontent = file.readlines()\n",
    "            \n",
    "    def head(self , n):\n",
    "        cntn = self.filecontent[:n]\n",
    "        for i in cntn:\n",
    "            print(cntn)\n",
    "\n",
    "    def tail(self , n):\n",
    "        cnt = self.filecontent[len(self.filecontent):n]\n",
    "        for i in cnt:\n",
    "            print(i.strip())\n",
    "\n",
    "filename = \"data.csv\"\n",
    "n = 2\n",
    "line_printing = pandas_naveen(filename)\n",
    "line_printing.read_csv(filename)\n",
    "line_printing.head(n)"
   ]
  },
  {
   "cell_type": "code",
   "execution_count": 2,
   "metadata": {},
   "outputs": [],
   "source": [
    "#2\n",
    "class Pandas_abhi():\n",
    "    def __init__(self):\n",
    "        self.filename=\"\"\n",
    "        self.filecontent=[]\n",
    "        self.columns=\"\"\n",
    "\n",
    "\n",
    "    def read_csv(self,filename):\n",
    "        self.filename=filename\n",
    "        try:\n",
    "            with open(filename, 'r+') as file:\n",
    "                self.columns=file.readline()\n",
    "                self.filecontent=file.readlines()\n",
    "        except:\n",
    "            print(\"File not found.\")\n",
    "\n",
    "\n",
    "    def head(self,num_of_rows):\n",
    "        for i in range(0,num_of_rows):\n",
    "            print(self.filecontent[i].strip())\n",
    "\n",
    "    def tail(self,num_of_rows):\n",
    "            start = len(self.filecontent)-(num_of_rows+1)\n",
    "            end = len(self.filecontent) -1\n",
    "            for i in range(start,end):\n",
    "                print(self.filecontent[i].strip())\n",
    "\n"
   ]
  },
  {
   "cell_type": "code",
   "execution_count": 5,
   "metadata": {},
   "outputs": [
    {
     "name": "stdout",
     "output_type": "stream",
     "text": [
      "49 0 3 160 180 0 0 156 0 1 2 -9 -9 1\n",
      "37 1 2 130 283 0 1 98 0 0 -9 -9 -9 0\n",
      "48 0 4 138 214 0 0 108 1 1.5 2 -9 -9 3\n",
      "54 1 3 150 -9 0 0 122 0 0 -9 -9 -9 0\n",
      "39 1 3 120 339 0 0 170 0 0 -9 -9 -9 0\n",
      "48 0 2 -9 308 0 1 -9 -9 2 1 -9 -9 0\n",
      "36 1 2 120 166 0 0 180 0 0 -9 -9 -9 0\n",
      "48 1 3 110 211 0 0 138 0 0 -9 -9 6 0\n",
      "47 0 2 140 257 0 0 135 0 1 1 -9 -9 0\n",
      "53 1 4 130 182 0 0 148 0 0 -9 -9 -9 0\n"
     ]
    }
   ],
   "source": [
    "pd=Pandas_abhi()\n",
    "pd.read_csv(\"data.csv\")\n",
    "pd.head(5)\n",
    "pd.tail(5)"
   ]
  },
  {
   "cell_type": "markdown",
   "metadata": {},
   "source": [
    "def AverageColumn (c):\n",
    "    f=open(csv,\"r\")\n",
    "    average=0\n",
    "    Sum=0\n",
    "    column=len(f)\n",
    "    for i in range(0,column):\n",
    "        for n in i.split(','):\n",
    "            n=float(n)\n",
    "            Sum += n\n",
    "        average = Sum / len(column)\n",
    "    return 'The average is:', average\n",
    "\n",
    "    f.close()\n",
    "\n",
    "\n",
    "csv=\"MDT25.csv\"\n",
    "print AverageColumn(csv)"
   ]
  },
  {
   "cell_type": "code",
   "execution_count": 10,
   "metadata": {},
   "outputs": [
    {
     "ename": "TypeError",
     "evalue": "'_io.TextIOWrapper' object cannot be interpreted as an integer",
     "output_type": "error",
     "traceback": [
      "\u001b[1;31m---------------------------------------------------------------------------\u001b[0m",
      "\u001b[1;31mTypeError\u001b[0m                                 Traceback (most recent call last)",
      "\u001b[1;32mc:\\Users\\HP\\Downloads\\new.ipynb Cell 109\u001b[0m line \u001b[0;36m1\n\u001b[0;32m     <a href='vscode-notebook-cell:/c%3A/Users/HP/Downloads/new.ipynb#Y212sZmlsZQ%3D%3D?line=12'>13</a>\u001b[0m     f\u001b[39m.\u001b[39mclose()\n\u001b[0;32m     <a href='vscode-notebook-cell:/c%3A/Users/HP/Downloads/new.ipynb#Y212sZmlsZQ%3D%3D?line=15'>16</a>\u001b[0m csv\u001b[39m=\u001b[39m\u001b[39m\"\u001b[39m\u001b[39mdata.csv\u001b[39m\u001b[39m\"\u001b[39m\n\u001b[1;32m---> <a href='vscode-notebook-cell:/c%3A/Users/HP/Downloads/new.ipynb#Y212sZmlsZQ%3D%3D?line=16'>17</a>\u001b[0m \u001b[39mprint\u001b[39m(AverageColumn(csv))\n",
      "\u001b[1;32mc:\\Users\\HP\\Downloads\\new.ipynb Cell 109\u001b[0m line \u001b[0;36m6\n\u001b[0;32m      <a href='vscode-notebook-cell:/c%3A/Users/HP/Downloads/new.ipynb#Y212sZmlsZQ%3D%3D?line=3'>4</a>\u001b[0m Sum\u001b[39m=\u001b[39m\u001b[39m0\u001b[39m\n\u001b[0;32m      <a href='vscode-notebook-cell:/c%3A/Users/HP/Downloads/new.ipynb#Y212sZmlsZQ%3D%3D?line=4'>5</a>\u001b[0m column\u001b[39m=\u001b[39mf\n\u001b[1;32m----> <a href='vscode-notebook-cell:/c%3A/Users/HP/Downloads/new.ipynb#Y212sZmlsZQ%3D%3D?line=5'>6</a>\u001b[0m \u001b[39mfor\u001b[39;00m i \u001b[39min\u001b[39;00m \u001b[39mrange\u001b[39;49m(\u001b[39m0\u001b[39;49m,column):\n\u001b[0;32m      <a href='vscode-notebook-cell:/c%3A/Users/HP/Downloads/new.ipynb#Y212sZmlsZQ%3D%3D?line=6'>7</a>\u001b[0m     \u001b[39mfor\u001b[39;00m n \u001b[39min\u001b[39;00m i\u001b[39m.\u001b[39msplit(\u001b[39m'\u001b[39m\u001b[39m,\u001b[39m\u001b[39m'\u001b[39m):\n\u001b[0;32m      <a href='vscode-notebook-cell:/c%3A/Users/HP/Downloads/new.ipynb#Y212sZmlsZQ%3D%3D?line=7'>8</a>\u001b[0m         n\u001b[39m=\u001b[39m\u001b[39mfloat\u001b[39m(n)\n",
      "\u001b[1;31mTypeError\u001b[0m: '_io.TextIOWrapper' object cannot be interpreted as an integer"
     ]
    }
   ],
   "source": [
    "def AverageColumn (c):\n",
    "    f=open(csv,\"r\")\n",
    "    average=0\n",
    "    Sum=0\n",
    "    column=f\n",
    "    for i in range(0,column):\n",
    "        for n in i.split(','):\n",
    "            n=float(n)\n",
    "            Sum += n\n",
    "        average = Sum /len(column)\n",
    "    return 'The average is:', average\n",
    "\n",
    "    f.close()\n",
    "\n",
    "\n",
    "csv=\"data.csv\"\n",
    "print(AverageColumn(csv))"
   ]
  },
  {
   "cell_type": "code",
   "execution_count": null,
   "metadata": {},
   "outputs": [],
   "source": [
    "file= open(\"data.csv\",\"r+\")\n",
    "file_header=file.readlines()\n",
    "file_content=file.readlines()\n",
    "file_header=file_header.split(',')\n",
    "file_content_dict \n",
    "\n",
    "\n",
    "    \n"
   ]
  },
  {
   "cell_type": "code",
   "execution_count": 5,
   "metadata": {},
   "outputs": [
    {
     "name": "stdout",
     "output_type": "stream",
     "text": [
      "[1, 2, 3, 4, 5]\n",
      "{'Name': 'Hiran', 'Class': 'MSCDS', 'Marks': [1, 2, 3, 4, 5]}\n"
     ]
    }
   ],
   "source": [
    "dict={}\n",
    "marks=[]\n",
    "for i in range(5):\n",
    "    a=int(input(\"Enter mark:\"))\n",
    "    marks.append(a)\n",
    "print(marks)\n",
    "dict[\"Name\"]=\"Hiran\"\n",
    "dict[\"Class\"]=\"MSCDS\"\n",
    "dict[\"Marks\"]=marks\n",
    "print(dict)"
   ]
  },
  {
   "cell_type": "code",
   "execution_count": 14,
   "metadata": {},
   "outputs": [
    {
     "name": "stdout",
     "output_type": "stream",
     "text": [
      "Name\n",
      "Class\n",
      "Marks\n",
      "4\n"
     ]
    }
   ],
   "source": [
    "search=4\n",
    "for i in dict:\n",
    "    print(i)\n",
    "    for j in dict[i]:\n",
    "        if search==j:\n",
    "            print(j)\n"
   ]
  },
  {
   "cell_type": "code",
   "execution_count": 9,
   "metadata": {},
   "outputs": [],
   "source": [
    "a= \"Abhi\"\n",
    "file =open (\"demo.csv\",\"a+\")\n",
    "file.write(\"\\nHi im fine\")\n",
    "file.write(\"\\n\"+a)\n",
    "file.close()"
   ]
  },
  {
   "cell_type": "code",
   "execution_count": 17,
   "metadata": {},
   "outputs": [
    {
     "name": "stdout",
     "output_type": "stream",
     "text": [
      "['Hi im fineAbhiHi im fineAbhiHi im fine\\n']\n",
      "['Abhi\\n']\n",
      "['Hi im fine\\n']\n",
      "['Abhi']\n"
     ]
    }
   ],
   "source": [
    "file=open(\"demo.csv\",\"r+\")\n",
    "x=file.readlines()\n",
    "for i in x:\n",
    "    a=i.split(\",\")\n",
    "    print(a)\n",
    "\n",
    "\n",
    "file.close()\n"
   ]
  },
  {
   "cell_type": "code",
   "execution_count": 1,
   "metadata": {},
   "outputs": [
    {
     "name": "stdout",
     "output_type": "stream",
     "text": [
      "Collecting seaborn\n",
      "  Obtaining dependency information for seaborn from https://files.pythonhosted.org/packages/7b/e5/83fcd7e9db036c179e0352bfcd20f81d728197a16f883e7b90307a88e65e/seaborn-0.13.0-py3-none-any.whl.metadata\n",
      "  Downloading seaborn-0.13.0-py3-none-any.whl.metadata (5.3 kB)\n",
      "Requirement already satisfied: numpy!=1.24.0,>=1.20 in c:\\users\\hp\\appdata\\local\\programs\\python\\python311\\lib\\site-packages (from seaborn) (1.25.2)\n",
      "Requirement already satisfied: pandas>=1.2 in c:\\users\\hp\\appdata\\local\\programs\\python\\python311\\lib\\site-packages (from seaborn) (2.1.0)\n",
      "Requirement already satisfied: matplotlib!=3.6.1,>=3.3 in c:\\users\\hp\\appdata\\local\\programs\\python\\python311\\lib\\site-packages (from seaborn) (3.8.0)\n",
      "Requirement already satisfied: contourpy>=1.0.1 in c:\\users\\hp\\appdata\\local\\programs\\python\\python311\\lib\\site-packages (from matplotlib!=3.6.1,>=3.3->seaborn) (1.1.1)\n",
      "Requirement already satisfied: cycler>=0.10 in c:\\users\\hp\\appdata\\local\\programs\\python\\python311\\lib\\site-packages (from matplotlib!=3.6.1,>=3.3->seaborn) (0.12.0)\n",
      "Requirement already satisfied: fonttools>=4.22.0 in c:\\users\\hp\\appdata\\local\\programs\\python\\python311\\lib\\site-packages (from matplotlib!=3.6.1,>=3.3->seaborn) (4.43.0)\n",
      "Requirement already satisfied: kiwisolver>=1.0.1 in c:\\users\\hp\\appdata\\local\\programs\\python\\python311\\lib\\site-packages (from matplotlib!=3.6.1,>=3.3->seaborn) (1.4.5)\n",
      "Requirement already satisfied: packaging>=20.0 in c:\\users\\hp\\appdata\\roaming\\python\\python311\\site-packages (from matplotlib!=3.6.1,>=3.3->seaborn) (23.1)\n",
      "Requirement already satisfied: pillow>=6.2.0 in c:\\users\\hp\\appdata\\local\\programs\\python\\python311\\lib\\site-packages (from matplotlib!=3.6.1,>=3.3->seaborn) (10.0.0)\n",
      "Requirement already satisfied: pyparsing>=2.3.1 in c:\\users\\hp\\appdata\\local\\programs\\python\\python311\\lib\\site-packages (from matplotlib!=3.6.1,>=3.3->seaborn) (3.1.1)\n",
      "Requirement already satisfied: python-dateutil>=2.7 in c:\\users\\hp\\appdata\\roaming\\python\\python311\\site-packages (from matplotlib!=3.6.1,>=3.3->seaborn) (2.8.2)\n",
      "Requirement already satisfied: pytz>=2020.1 in c:\\users\\hp\\appdata\\local\\programs\\python\\python311\\lib\\site-packages (from pandas>=1.2->seaborn) (2023.3.post1)\n",
      "Requirement already satisfied: tzdata>=2022.1 in c:\\users\\hp\\appdata\\local\\programs\\python\\python311\\lib\\site-packages (from pandas>=1.2->seaborn) (2023.3)\n",
      "Requirement already satisfied: six>=1.5 in c:\\users\\hp\\appdata\\roaming\\python\\python311\\site-packages (from python-dateutil>=2.7->matplotlib!=3.6.1,>=3.3->seaborn) (1.16.0)\n",
      "Downloading seaborn-0.13.0-py3-none-any.whl (294 kB)\n",
      "   ---------------------------------------- 0.0/294.6 kB ? eta -:--:--\n",
      "   ---------------------------------------- 0.0/294.6 kB ? eta -:--:--\n",
      "   - -------------------------------------- 10.2/294.6 kB ? eta -:--:--\n",
      "   - -------------------------------------- 10.2/294.6 kB ? eta -:--:--\n",
      "   - -------------------------------------- 10.2/294.6 kB ? eta -:--:--\n",
      "   -------- ------------------------------ 61.4/294.6 kB 328.2 kB/s eta 0:00:01\n",
      "   ---------- ---------------------------- 81.9/294.6 kB 353.1 kB/s eta 0:00:01\n",
      "   -------------- ----------------------- 112.6/294.6 kB 409.6 kB/s eta 0:00:01\n",
      "   --------------- ---------------------- 122.9/294.6 kB 380.5 kB/s eta 0:00:01\n",
      "   ------------------ ------------------- 143.4/294.6 kB 405.9 kB/s eta 0:00:01\n",
      "   ------------------ ------------------- 143.4/294.6 kB 405.9 kB/s eta 0:00:01\n",
      "   ------------------ ------------------- 143.4/294.6 kB 405.9 kB/s eta 0:00:01\n",
      "   ------------------ ------------------- 143.4/294.6 kB 405.9 kB/s eta 0:00:01\n",
      "   -------------------------- ----------- 204.8/294.6 kB 389.1 kB/s eta 0:00:01\n",
      "   ----------------------------- -------- 225.3/294.6 kB 372.0 kB/s eta 0:00:01\n",
      "   ------------------------------- ------ 245.8/294.6 kB 386.7 kB/s eta 0:00:01\n",
      "   --------------------------------- ---- 256.0/294.6 kB 357.7 kB/s eta 0:00:01\n",
      "   --------------------------------- ---- 256.0/294.6 kB 357.7 kB/s eta 0:00:01\n",
      "   --------------------------------- ---- 256.0/294.6 kB 357.7 kB/s eta 0:00:01\n",
      "   ----------------------------------- -- 276.5/294.6 kB 321.5 kB/s eta 0:00:01\n",
      "   ------------------------------------ - 286.7/294.6 kB 316.0 kB/s eta 0:00:01\n",
      "   -------------------------------------- 294.6/294.6 kB 319.5 kB/s eta 0:00:00\n",
      "Installing collected packages: seaborn\n",
      "Successfully installed seaborn-0.13.0\n",
      "Note: you may need to restart the kernel to use updated packages.\n"
     ]
    }
   ],
   "source": [
    "pip install seaborn"
   ]
  },
  {
   "cell_type": "code",
   "execution_count": 2,
   "metadata": {},
   "outputs": [],
   "source": [
    "import pandas as pd\n",
    "import seaborn as sns"
   ]
  },
  {
   "cell_type": "code",
   "execution_count": 2,
   "metadata": {},
   "outputs": [
    {
     "data": {
      "text/html": [
       "<div>\n",
       "<style scoped>\n",
       "    .dataframe tbody tr th:only-of-type {\n",
       "        vertical-align: middle;\n",
       "    }\n",
       "\n",
       "    .dataframe tbody tr th {\n",
       "        vertical-align: top;\n",
       "    }\n",
       "\n",
       "    .dataframe thead th {\n",
       "        text-align: right;\n",
       "    }\n",
       "</style>\n",
       "<table border=\"1\" class=\"dataframe\">\n",
       "  <thead>\n",
       "    <tr style=\"text-align: right;\">\n",
       "      <th></th>\n",
       "      <th>sepal_length</th>\n",
       "      <th>sepal_width</th>\n",
       "      <th>petal_length</th>\n",
       "      <th>petal_width</th>\n",
       "      <th>species</th>\n",
       "    </tr>\n",
       "  </thead>\n",
       "  <tbody>\n",
       "    <tr>\n",
       "      <th>0</th>\n",
       "      <td>5.1</td>\n",
       "      <td>3.5</td>\n",
       "      <td>1.4</td>\n",
       "      <td>0.2</td>\n",
       "      <td>Iris-setosa</td>\n",
       "    </tr>\n",
       "    <tr>\n",
       "      <th>1</th>\n",
       "      <td>4.9</td>\n",
       "      <td>3.0</td>\n",
       "      <td>1.4</td>\n",
       "      <td>0.2</td>\n",
       "      <td>Iris-setosa</td>\n",
       "    </tr>\n",
       "    <tr>\n",
       "      <th>2</th>\n",
       "      <td>4.7</td>\n",
       "      <td>3.2</td>\n",
       "      <td>1.3</td>\n",
       "      <td>0.2</td>\n",
       "      <td>Iris-setosa</td>\n",
       "    </tr>\n",
       "    <tr>\n",
       "      <th>3</th>\n",
       "      <td>4.6</td>\n",
       "      <td>3.1</td>\n",
       "      <td>1.5</td>\n",
       "      <td>0.2</td>\n",
       "      <td>Iris-setosa</td>\n",
       "    </tr>\n",
       "    <tr>\n",
       "      <th>4</th>\n",
       "      <td>5.0</td>\n",
       "      <td>3.6</td>\n",
       "      <td>1.4</td>\n",
       "      <td>0.2</td>\n",
       "      <td>Iris-setosa</td>\n",
       "    </tr>\n",
       "    <tr>\n",
       "      <th>...</th>\n",
       "      <td>...</td>\n",
       "      <td>...</td>\n",
       "      <td>...</td>\n",
       "      <td>...</td>\n",
       "      <td>...</td>\n",
       "    </tr>\n",
       "    <tr>\n",
       "      <th>145</th>\n",
       "      <td>6.7</td>\n",
       "      <td>3.0</td>\n",
       "      <td>5.2</td>\n",
       "      <td>2.3</td>\n",
       "      <td>Iris-virginica</td>\n",
       "    </tr>\n",
       "    <tr>\n",
       "      <th>146</th>\n",
       "      <td>6.3</td>\n",
       "      <td>2.5</td>\n",
       "      <td>5.0</td>\n",
       "      <td>1.9</td>\n",
       "      <td>Iris-virginica</td>\n",
       "    </tr>\n",
       "    <tr>\n",
       "      <th>147</th>\n",
       "      <td>6.5</td>\n",
       "      <td>3.0</td>\n",
       "      <td>5.2</td>\n",
       "      <td>2.0</td>\n",
       "      <td>Iris-virginica</td>\n",
       "    </tr>\n",
       "    <tr>\n",
       "      <th>148</th>\n",
       "      <td>6.2</td>\n",
       "      <td>3.4</td>\n",
       "      <td>5.4</td>\n",
       "      <td>2.3</td>\n",
       "      <td>Iris-virginica</td>\n",
       "    </tr>\n",
       "    <tr>\n",
       "      <th>149</th>\n",
       "      <td>5.9</td>\n",
       "      <td>3.0</td>\n",
       "      <td>5.1</td>\n",
       "      <td>1.8</td>\n",
       "      <td>Iris-virginica</td>\n",
       "    </tr>\n",
       "  </tbody>\n",
       "</table>\n",
       "<p>150 rows × 5 columns</p>\n",
       "</div>"
      ],
      "text/plain": [
       "     sepal_length  sepal_width  petal_length  petal_width         species\n",
       "0             5.1          3.5           1.4          0.2     Iris-setosa\n",
       "1             4.9          3.0           1.4          0.2     Iris-setosa\n",
       "2             4.7          3.2           1.3          0.2     Iris-setosa\n",
       "3             4.6          3.1           1.5          0.2     Iris-setosa\n",
       "4             5.0          3.6           1.4          0.2     Iris-setosa\n",
       "..            ...          ...           ...          ...             ...\n",
       "145           6.7          3.0           5.2          2.3  Iris-virginica\n",
       "146           6.3          2.5           5.0          1.9  Iris-virginica\n",
       "147           6.5          3.0           5.2          2.0  Iris-virginica\n",
       "148           6.2          3.4           5.4          2.3  Iris-virginica\n",
       "149           5.9          3.0           5.1          1.8  Iris-virginica\n",
       "\n",
       "[150 rows x 5 columns]"
      ]
     },
     "execution_count": 2,
     "metadata": {},
     "output_type": "execute_result"
    }
   ],
   "source": [
    "df=pd.read_csv(\"IRIS.csv\")\n",
    "df"
   ]
  },
  {
   "cell_type": "code",
   "execution_count": 3,
   "metadata": {},
   "outputs": [
    {
     "data": {
      "text/html": [
       "<div>\n",
       "<style scoped>\n",
       "    .dataframe tbody tr th:only-of-type {\n",
       "        vertical-align: middle;\n",
       "    }\n",
       "\n",
       "    .dataframe tbody tr th {\n",
       "        vertical-align: top;\n",
       "    }\n",
       "\n",
       "    .dataframe thead th {\n",
       "        text-align: right;\n",
       "    }\n",
       "</style>\n",
       "<table border=\"1\" class=\"dataframe\">\n",
       "  <thead>\n",
       "    <tr style=\"text-align: right;\">\n",
       "      <th></th>\n",
       "      <th>sepal_length</th>\n",
       "      <th>sepal_width</th>\n",
       "      <th>petal_length</th>\n",
       "      <th>petal_width</th>\n",
       "      <th>species</th>\n",
       "    </tr>\n",
       "  </thead>\n",
       "  <tbody>\n",
       "    <tr>\n",
       "      <th>0</th>\n",
       "      <td>5.1</td>\n",
       "      <td>3.5</td>\n",
       "      <td>1.4</td>\n",
       "      <td>0.2</td>\n",
       "      <td>Iris-setosa</td>\n",
       "    </tr>\n",
       "    <tr>\n",
       "      <th>1</th>\n",
       "      <td>4.9</td>\n",
       "      <td>3.0</td>\n",
       "      <td>1.4</td>\n",
       "      <td>0.2</td>\n",
       "      <td>Iris-setosa</td>\n",
       "    </tr>\n",
       "    <tr>\n",
       "      <th>2</th>\n",
       "      <td>4.7</td>\n",
       "      <td>3.2</td>\n",
       "      <td>1.3</td>\n",
       "      <td>0.2</td>\n",
       "      <td>Iris-setosa</td>\n",
       "    </tr>\n",
       "    <tr>\n",
       "      <th>3</th>\n",
       "      <td>4.6</td>\n",
       "      <td>3.1</td>\n",
       "      <td>1.5</td>\n",
       "      <td>0.2</td>\n",
       "      <td>Iris-setosa</td>\n",
       "    </tr>\n",
       "    <tr>\n",
       "      <th>4</th>\n",
       "      <td>5.0</td>\n",
       "      <td>3.6</td>\n",
       "      <td>1.4</td>\n",
       "      <td>0.2</td>\n",
       "      <td>Iris-setosa</td>\n",
       "    </tr>\n",
       "  </tbody>\n",
       "</table>\n",
       "</div>"
      ],
      "text/plain": [
       "   sepal_length  sepal_width  petal_length  petal_width      species\n",
       "0           5.1          3.5           1.4          0.2  Iris-setosa\n",
       "1           4.9          3.0           1.4          0.2  Iris-setosa\n",
       "2           4.7          3.2           1.3          0.2  Iris-setosa\n",
       "3           4.6          3.1           1.5          0.2  Iris-setosa\n",
       "4           5.0          3.6           1.4          0.2  Iris-setosa"
      ]
     },
     "execution_count": 3,
     "metadata": {},
     "output_type": "execute_result"
    }
   ],
   "source": [
    "df.head()"
   ]
  },
  {
   "cell_type": "code",
   "execution_count": 3,
   "metadata": {},
   "outputs": [
    {
     "ename": "NameError",
     "evalue": "name 'df' is not defined",
     "output_type": "error",
     "traceback": [
      "\u001b[1;31m---------------------------------------------------------------------------\u001b[0m",
      "\u001b[1;31mNameError\u001b[0m                                 Traceback (most recent call last)",
      "\u001b[1;32mc:\\Users\\HP\\Downloads\\new.ipynb Cell 119\u001b[0m line \u001b[0;36m1\n\u001b[1;32m----> <a href='vscode-notebook-cell:/c%3A/Users/HP/Downloads/new.ipynb#Y231sZmlsZQ%3D%3D?line=0'>1</a>\u001b[0m df[\u001b[39m'\u001b[39m\u001b[39msepal_length\u001b[39m\u001b[39m'\u001b[39m]\u001b[39m.\u001b[39mhist()\n",
      "\u001b[1;31mNameError\u001b[0m: name 'df' is not defined"
     ]
    }
   ],
   "source": [
    "df['sepal_length'].hist()"
   ]
  },
  {
   "cell_type": "code",
   "execution_count": null,
   "metadata": {},
   "outputs": [],
   "source": []
  },
  {
   "cell_type": "markdown",
   "metadata": {},
   "source": [
    "#Load a csv, set new column names\n",
    "#Rename Column Names (1 Column,Multiple column)\n",
    "#Load a dataset,set one column as index column\n",
    "#Split your data into Multiple files withb respect to rows and columns. Load the different files and manage them to find file"
   ]
  },
  {
   "cell_type": "markdown",
   "metadata": {},
   "source": [
    "Write a python program with the following specifications:There will be a function name : \"create dataset\" that takes dictionary,filename,no: of rows as arguments.The dictinary having the following structure:{ \n",
    "    \"col.name\":[domain of values]\n",
    "}\n",
    "Your function will select random values for each of the domains and create a row for you . the number of rows that has to be created is the parameter . Save the file with required no: of rows . Load this dataset using pandas and display basic information which includes shape,size etc."
   ]
  },
  {
   "cell_type": "code",
   "execution_count": 3,
   "metadata": {},
   "outputs": [
    {
     "ename": "NameError",
     "evalue": "name 'data' is not defined",
     "output_type": "error",
     "traceback": [
      "\u001b[1;31m---------------------------------------------------------------------------\u001b[0m",
      "\u001b[1;31mNameError\u001b[0m                                 Traceback (most recent call last)",
      "\u001b[1;32mc:\\Users\\HP\\Downloads\\new.ipynb Cell 124\u001b[0m line \u001b[0;36m9\n\u001b[0;32m      <a href='vscode-notebook-cell:/c%3A/Users/HP/Downloads/new.ipynb#Y235sZmlsZQ%3D%3D?line=3'>4</a>\u001b[0m         \u001b[39mfor\u001b[39;00m i \u001b[39min\u001b[39;00m \u001b[39mrange\u001b[39m():  \n\u001b[0;32m      <a href='vscode-notebook-cell:/c%3A/Users/HP/Downloads/new.ipynb#Y235sZmlsZQ%3D%3D?line=4'>5</a>\u001b[0m             data[column] \u001b[39m=\u001b[39m [random\u001b[39m.\u001b[39mchoice(domain) \u001b[39mfor\u001b[39;00m _ \u001b[39min\u001b[39;00m \u001b[39mrange\u001b[39m(num_rows)]\n\u001b[1;32m----> <a href='vscode-notebook-cell:/c%3A/Users/HP/Downloads/new.ipynb#Y235sZmlsZQ%3D%3D?line=8'>9</a>\u001b[0m df\u001b[39m=\u001b[39mpd\u001b[39m.\u001b[39mDataFrame(data)\n\u001b[0;32m     <a href='vscode-notebook-cell:/c%3A/Users/HP/Downloads/new.ipynb#Y235sZmlsZQ%3D%3D?line=9'>10</a>\u001b[0m df\u001b[39m.\u001b[39mto_csv(file_name, index\u001b[39m=\u001b[39m\u001b[39mFalse\u001b[39;00m)\n\u001b[0;32m     <a href='vscode-notebook-cell:/c%3A/Users/HP/Downloads/new.ipynb#Y235sZmlsZQ%3D%3D?line=10'>11</a>\u001b[0m \u001b[39mreturn\u001b[39;00m df\n",
      "\u001b[1;31mNameError\u001b[0m: name 'data' is not defined"
     ]
    }
   ],
   "source": [
    "import random\n",
    "\n",
    "def create_dataset(data_dict, file_name, num_rows):\n",
    "    # loop for the number of rows\n",
    "        # select one value for each key from the dict\n",
    "        # open the file in 'a' mode\n",
    "        # write the line to file\n",
    "    pass\n",
    "     \n",
    "\n",
    "dict = {\n",
    "    \"col_name\": [\"val1\",\"val2\",....],\n",
    "    \"col_name\": [\"val1\",\"val2\",....],\n",
    "    \"col_name\": [\"val1\",\"val2\",....],\n",
    "}\n",
    "\n",
    "create_dataset(dict,\"data.csv\",50)"
   ]
  },
  {
   "cell_type": "code",
   "execution_count": 4,
   "metadata": {},
   "outputs": [
    {
     "data": {
      "text/html": [
       "<div>\n",
       "<style scoped>\n",
       "    .dataframe tbody tr th:only-of-type {\n",
       "        vertical-align: middle;\n",
       "    }\n",
       "\n",
       "    .dataframe tbody tr th {\n",
       "        vertical-align: top;\n",
       "    }\n",
       "\n",
       "    .dataframe thead th {\n",
       "        text-align: right;\n",
       "    }\n",
       "</style>\n",
       "<table border=\"1\" class=\"dataframe\">\n",
       "  <thead>\n",
       "    <tr style=\"text-align: right;\">\n",
       "      <th></th>\n",
       "      <th>name</th>\n",
       "      <th>reg_no</th>\n",
       "      <th>emailID</th>\n",
       "      <th>phoneNo</th>\n",
       "    </tr>\n",
       "  </thead>\n",
       "  <tbody>\n",
       "    <tr>\n",
       "      <th>0</th>\n",
       "      <td>shruti</td>\n",
       "      <td>23122032</td>\n",
       "      <td>shruti@gmail.com</td>\n",
       "      <td>232</td>\n",
       "    </tr>\n",
       "    <tr>\n",
       "      <th>1</th>\n",
       "      <td>Aleena</td>\n",
       "      <td>23122106</td>\n",
       "      <td>aleena@gmail.com</td>\n",
       "      <td>453</td>\n",
       "    </tr>\n",
       "    <tr>\n",
       "      <th>2</th>\n",
       "      <td>Anand KJ</td>\n",
       "      <td>23122006</td>\n",
       "      <td>anad@gmail.com</td>\n",
       "      <td>347</td>\n",
       "    </tr>\n",
       "    <tr>\n",
       "      <th>3</th>\n",
       "      <td>Arun</td>\n",
       "      <td>23122108</td>\n",
       "      <td>arun@gmail.com</td>\n",
       "      <td>665</td>\n",
       "    </tr>\n",
       "    <tr>\n",
       "      <th>4</th>\n",
       "      <td>Abhidev</td>\n",
       "      <td>23122001</td>\n",
       "      <td>abhidev@gmial.com</td>\n",
       "      <td>435</td>\n",
       "    </tr>\n",
       "  </tbody>\n",
       "</table>\n",
       "</div>"
      ],
      "text/plain": [
       "       name    reg_no            emailID  phoneNo\n",
       "0    shruti  23122032   shruti@gmail.com      232\n",
       "1    Aleena  23122106   aleena@gmail.com      453\n",
       "2  Anand KJ  23122006     anad@gmail.com      347\n",
       "3      Arun  23122108     arun@gmail.com      665\n",
       "4   Abhidev  23122001  abhidev@gmial.com      435"
      ]
     },
     "execution_count": 4,
     "metadata": {},
     "output_type": "execute_result"
    }
   ],
   "source": [
    "import pandas as pd\n",
    "import random\n",
    "\n",
    "dict1={\n",
    "    \"name\":[\"shruti\",\"Aleena\",\"Anand KJ\",\"Arun\",\"Abhidev\"],\n",
    "    \"reg_no\":[\"23122032\", \"23122106\",\"23122006\",\"23122108\",\"23122001\"],\n",
    "    \"emailID\":[\"shruti@gmail.com\",\"aleena@gmail.com\",\"anad@gmail.com\",\"arun@gmail.com\",\"abhidev@gmial.com\"],\n",
    "    \"phoneNo\":[\"232\",\"453\",\"347\",\"665\",\"435\"]\n",
    "}\n",
    "\n",
    "import pandas as pd\n",
    "df = pd.DataFrame(dict1)\n",
    "df.to_csv('my_file.csv', index=False, header=True)\n",
    "df=pd.read_csv(\"my_file.csv\")\n",
    "df\n",
    "df.columns\n",
    "df.describe\n",
    "df"
   ]
  },
  {
   "cell_type": "code",
   "execution_count": null,
   "metadata": {},
   "outputs": [],
   "source": [
    "import pandas as pd\n",
    "import random\n",
    "def createdataset(dict,filename,rows):\n",
    "    file=open(filename,\"a+\")\n",
    "    file.write(\"Name\"+\",\"+\"Age\"+\",\"+\"Gender\"+\",\"+\"Place\"+\",\"+\"Percentage\"+\",\"+\"Graduation\"+\"\\n\")\n",
    "    for i in range(0,rows):\n",
    "            name=random.choice(dict[\"Name\"])\n",
    "            age=random.choice(dict[\"Age\"])\n",
    "            gender=random.choice(dict[\"Gender\"])\n",
    "            place=random.choice(dict[\"Place\"])\n",
    "            perc=random.choice(dict[\"Percentage\"])\n",
    "            grad=random.choice(dict[\"Graduation\"])\n",
    "            file.write(name+\",\"+str(age)+\",\"+gender+\",\"+place+\",\"+str(perc)+\",\"+grad+\"\\n\")\n",
    "    file.close()\n",
    "\n",
    "    \n",
    "\n",
    "dict={\"Name\":[\"A\",\"B\",\"C\",\"D\",\"G\",\"J\",\"H\",\"F\"],\n",
    "      \"Age\":[18,19,20,21,22,23,24,25],\n",
    "      \"Gender\":[\"Male\",\"Female\"],\n",
    "      \"Place\":[\"Kerala\",\"Karnataka\",\"Tamil Nadu\",\"Maharashtra\"],\n",
    "      \"Percentage\":[60,70,80,90,95],\n",
    "      \"Graduation\":[\"BSc\",\"BCA\",\"BCom\"]\n",
    "    }\n",
    "\n",
    "rows=int(input(\"Enter the number of entries:\"))\n",
    "filename=input(\"Enter file name:\")\n",
    "filename=filename+\".csv\"\n",
    "createdataset(dict,filename,rows)"
   ]
  },
  {
   "cell_type": "code",
   "execution_count": 3,
   "metadata": {},
   "outputs": [
    {
     "ename": "TypeError",
     "evalue": "Student.__init__() missing 3 required positional arguments: 'name', 'rollno', and 'marks'",
     "output_type": "error",
     "traceback": [
      "\u001b[1;31m---------------------------------------------------------------------------\u001b[0m",
      "\u001b[1;31mTypeError\u001b[0m                                 Traceback (most recent call last)",
      "\u001b[1;32mc:\\Users\\HP\\Downloads\\new.ipynb Cell 126\u001b[0m line \u001b[0;36m1\n\u001b[0;32m     <a href='vscode-notebook-cell:/c%3A/Users/HP/Downloads/new.ipynb#Y236sZmlsZQ%3D%3D?line=9'>10</a>\u001b[0m \u001b[39mdef\u001b[39;00m \u001b[39mget_marks\u001b[39m(\u001b[39mself\u001b[39m,marks):\n\u001b[0;32m     <a href='vscode-notebook-cell:/c%3A/Users/HP/Downloads/new.ipynb#Y236sZmlsZQ%3D%3D?line=10'>11</a>\u001b[0m    \u001b[39mself\u001b[39m\u001b[39m.\u001b[39mmarks\u001b[39m=\u001b[39mmarks\n\u001b[1;32m---> <a href='vscode-notebook-cell:/c%3A/Users/HP/Downloads/new.ipynb#Y236sZmlsZQ%3D%3D?line=11'>12</a>\u001b[0m dt\u001b[39m=\u001b[39mStudent()\n\u001b[0;32m     <a href='vscode-notebook-cell:/c%3A/Users/HP/Downloads/new.ipynb#Y236sZmlsZQ%3D%3D?line=12'>13</a>\u001b[0m sd\u001b[39m=\u001b[39mdt\u001b[39m.\u001b[39mget_name(\u001b[39m\"\u001b[39m\u001b[39mAbhidev\u001b[39m\u001b[39m\"\u001b[39m)\n\u001b[0;32m     <a href='vscode-notebook-cell:/c%3A/Users/HP/Downloads/new.ipynb#Y236sZmlsZQ%3D%3D?line=13'>14</a>\u001b[0m sd\n",
      "\u001b[1;31mTypeError\u001b[0m: Student.__init__() missing 3 required positional arguments: 'name', 'rollno', and 'marks'"
     ]
    }
   ],
   "source": [
    "class Student:\n",
    "  def __init__(self, name, rollno, marks):\n",
    "    self.name = name\n",
    "    self.rollno = rollno\n",
    "    self.marks = marks\n",
    "def get_name(self,name):\n",
    "    self.name=name\n",
    "def get_rollnum(self,rollno):\n",
    "   self.rollno = rollno\n",
    "def get_marks(self,marks):\n",
    "   self.marks=marks\n",
    "dt=Student()\n",
    "sd=dt.get_name(\"Abhidev\")\n",
    "sd\n",
    "\n",
    "\n",
    "   \n",
    "\n"
   ]
  },
  {
   "cell_type": "code",
   "execution_count": 2,
   "metadata": {},
   "outputs": [
    {
     "name": "stdout",
     "output_type": "stream",
     "text": [
      "1.Show student details and marks\n",
      "2.Add student details and marks\n",
      "3.Exit\n"
     ]
    }
   ],
   "source": [
    "class students:\n",
    "    def _init_(self):\n",
    "        self.student = []\n",
    "\n",
    "    def student_details(self,name,reg_no,course,year):\n",
    "        self.details = {\"Name\" : name,\n",
    "                        \"Register No.\" : reg_no,\n",
    "                        \"Course\" : course,\n",
    "                        \"Year\" : year\n",
    "                        }\n",
    "        self.std_dict = {self.details[\"Name\"] : self.student}\n",
    "        self.student.append(self.details)\n",
    "        \n",
    "    def marks(self,res,mat,stat,py,excel):\n",
    "        self.mark_det = {\"Research Methodology\" : res,\n",
    "                         \"Mathematics\" : mat,\n",
    "                         \"Statistics\" : stat,\n",
    "                         \"Python\" : py,\n",
    "                         \"Excel\" : excel\n",
    "                         }\n",
    "        self.student.append(self.mark_det)\n",
    "\n",
    "    def print_studentdet(self):\n",
    "        print(self.student)\n",
    "\n",
    "    # def del_student():\n",
    "        \n",
    "std = students()\n",
    "while True:\n",
    "    print(\"1.Show student details and marks\")\n",
    "    print(\"2.Add student details and marks\")\n",
    "    print(\"3.Exit\")\n",
    "\n",
    "    choice = int(input(\"Enter the choice:\"))\n",
    "    if choice == 1:\n",
    "        std.print_studentdet()\n",
    "    elif choice == 2:\n",
    "        name = input(\"Enter the Name of the student:\")\n",
    "        reg_no = input(\"Enter the Register Number:\")\n",
    "        course = \"MSc Data Science\"\n",
    "        year = input(\"Enter the year of studying:\")\n",
    "        std.student_details(name,reg_no,course,year)\n",
    "        res = input(\"Enter the marks scored in Research Methodology:\")\n",
    "        mat = input(\"Enter the marks scored in Mathematics:\")\n",
    "        stat = input(\"Enter the marks scored in Statistics:\")\n",
    "        py = input(\"Enter the marks scored in Python Programming:\")\n",
    "        excel = input(\"Enter the marks scored in Excel:\")\n",
    "        std.marks(res,mat,stat,py,excel)\n",
    "    else:\n",
    "        print(\"=======Exited======\")\n",
    "        break"
   ]
  },
  {
   "cell_type": "code",
   "execution_count": null,
   "metadata": {},
   "outputs": [],
   "source": []
  }
 ],
 "metadata": {
  "kernelspec": {
   "display_name": "Python 3",
   "language": "python",
   "name": "python3"
  },
  "language_info": {
   "codemirror_mode": {
    "name": "ipython",
    "version": 3
   },
   "file_extension": ".py",
   "mimetype": "text/x-python",
   "name": "python",
   "nbconvert_exporter": "python",
   "pygments_lexer": "ipython3",
   "version": "3.11.5"
  },
  "orig_nbformat": 4
 },
 "nbformat": 4,
 "nbformat_minor": 2
}
