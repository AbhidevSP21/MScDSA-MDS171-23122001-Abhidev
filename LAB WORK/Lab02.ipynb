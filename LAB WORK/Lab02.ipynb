{
 "cells": [
  {
   "cell_type": "markdown",
   "metadata": {},
   "source": [
    "In a quaint little village named Harmonyville, there lived a curious individual named Alex. Alex was known for his passion for collecting names. His dream was to create an extensive list of unique names that would reflect the diversity and camaraderie of the village. Alex used to sit in the village junction; as the villagers passed, Alex eagerly approached them and asked for their names. With each encounter, they diligently recorded the names in his notepad.\n",
    "\n",
    "To keep things organized, You were one among the villagers and have decided to create a program to assist them in this endeavour. You asked Alex to begin by defining a list on his laptop instead of his notepad, and you started writing functions to add names.\n",
    "\n",
    "The function that you have defined should do\n",
    "\n",
    "Whenever a new name is encountered, record it.\n",
    "If an existing name comes, the program says the name exists.\n",
    "Alex makes a lot of mistakes; your program also has to do the necessary validations.\n",
    "The function quits when q is entered as a name and prints all the names in the list, and then he has to call the function.\n",
    "As a data analyst of the village, analyse the names in the list.\n",
    "Days turned into weeks and weeks into months. Alex's name collection grew beyond their wildest dreams. The villagers admired their dedication and the beautifully organized list they had created. Alex's program became a legend in Harmonyville, passed down from generation to generation.\n",
    "\n",
    "And so, in the heart of the village, Alex's legacy lived on - a story of names, community, and the power of coding to bring dreams to life.\n"
   ]
  },
  {
   "cell_type": "code",
   "execution_count": 1,
   "metadata": {},
   "outputs": [
    {
     "name": "stdout",
     "output_type": "stream",
     "text": [
      "=======The villagers list==========\n",
      "Type 'q' if you want to exit\n"
     ]
    }
   ],
   "source": [
    "print(\"=======The villagers list==========\")\n",
    "vlist=[] #creating a list\n",
    "def village():\n",
    "    print(\"Type 'q' if you want to exit\")\n",
    "    while True:\n",
    "        n=input(\"Enter the name of villager:\") #entering n villager's name\n",
    "        ns=n.strip() #avoid spacing\n",
    "        if ns==\"q\":\n",
    "            print(\"exited\")\n",
    "            break\n",
    "        elif ns in vlist:\n",
    "            print(\"name already exists\") #checking whether name already exists or not\n",
    "        else:\n",
    "            vlist.append(ns) #adding each names to list\n",
    "    print(vlist)\n",
    "    \n",
    "    print(\"===========Total number of names of villagers========\")\n",
    "    total=len(vlist) #total number of villagers\n",
    "    print(\"Total number of names of villagers = \",total)\n",
    "    \n",
    "    print(\"===========The names starting with specific letter========\")\n",
    "    let=input(\"Enter the letter:\") #searching the names come under a particular letter\n",
    "    print(\"The names starting with\" ,let, \"are\")\n",
    "    for i in vlist:\n",
    "        if let in i[0]:\n",
    "            print(i)\n",
    "village()"
   ]
  }
 ],
 "metadata": {
  "kernelspec": {
   "display_name": "Python 3",
   "language": "python",
   "name": "python3"
  },
  "language_info": {
   "codemirror_mode": {
    "name": "ipython",
    "version": 3
   },
   "file_extension": ".py",
   "mimetype": "text/x-python",
   "name": "python",
   "nbconvert_exporter": "python",
   "pygments_lexer": "ipython3",
   "version": "3.11.5"
  },
  "orig_nbformat": 4
 },
 "nbformat": 4,
 "nbformat_minor": 2
}
